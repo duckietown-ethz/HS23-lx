{
 "cells": [
  {
   "cell_type": "markdown",
   "metadata": {},
   "source": [
    "# Final Project"
   ]
  },
  {
   "cell_type": "markdown",
   "metadata": {},
   "source": [
    "\n",
    "## TODO: Add project description here"
   ]
  },
  {
   "cell_type": "code",
   "execution_count": 1,
   "metadata": {
    "pycharm": {
     "name": "#%%\n"
    }
   },
   "outputs": [],
   "source": [
    "%load_ext autoreload\n",
    "%autoreload 2\n",
    "\n",
    "import os\n",
    "\n",
    "import numpy as np\n",
    "import cv2\n",
    "import matplotlib.pyplot as plt\n",
    "\n",
    "this_dir: str = os.path.abspath('')\n",
    "assets_dir: str = os.path.join(this_dir, \"..\", \"..\", \"assets\", \"notebooks\", \"project\")"
   ]
  },
  {
   "cell_type": "code",
   "execution_count": 2,
   "metadata": {},
   "outputs": [],
   "source": [
    "# Example component\n",
    "\n",
    "from final_project.components import FlipImageComponent\n",
    "\n",
    "\n",
    "# make figure\n",
    "fig = plt.figure(figsize=(16, 9), dpi=96)\n",
    "\n",
    "# define component\n",
    "flip: FlipImageComponent = FlipImageComponent(axis=0)\n",
    "flip.start()\n",
    "\n",
    "# read image from disk\n",
    "image_fpath: str = os.path.join(assets_dir, \"duckietown.jpg\")\n",
    "image: np.ndarray = cv2.imread(image_fpath)\n",
    "\n",
    "# plot input\n",
    "subfig = fig.add_subplot(1, 2, 1)\n",
    "subfig.imshow(cv2.cvtColor(image, cv2.COLOR_BGRA2RGBA))\n",
    "subfig.set_title(\"Input\")\n",
    "\n",
    "# feed image to component\n",
    "flip.in_bgr.put(image)\n",
    "\n",
    "# get result\n",
    "image2: np.ndarray = flip.out_bgr.get()\n",
    "\n",
    "# plot output\n",
    "subfig = fig.add_subplot(1, 2, 2)\n",
    "subfig.imshow(cv2.cvtColor(image2, cv2.COLOR_BGRA2RGBA))\n",
    "subfig.set_title(\"Output\")\n",
    "\n",
    "# stop component\n",
    "flip.stop()"
   ]
  },
  {
   "cell_type": "code",
   "execution_count": 12,
   "metadata": {},
   "outputs": [],
   "source": [
    "## Real Duckiebot - KIZZY\n",
    "\n",
    "import os\n",
    "from duckietown.types import CameraParameters\n",
    "\n",
    "# TODO: change this to the name of your Duckiebot\n",
    "VEHICLE_NAME: str = \"kizzy\"\n",
    "\n",
    "\n",
    "# TODO: change this to your duckiebot's camera parameters\n",
    "CAMERA_PARAMETERS: CameraParameters = {\n",
    "    \"width\": 640,\n",
    "    \"height\": 480,\n",
    "    \"K\": np.reshape(\n",
    "        [\n",
    "            275.73276038498926,\n",
    "            0.0,\n",
    "            319.6766909474663,\n",
    "            0.0,\n",
    "            280.1548497747509,\n",
    "            273.2555774703665,\n",
    "            0.0,\n",
    "            0.0,\n",
    "            1.0,\n",
    "        ],\n",
    "        (3, 3),\n",
    "    ),\n",
    "    \"D\": [\n",
    "        -0.186769174617111,\n",
    "        0.021237828783060932,\n",
    "        -0.010063453683894804,\n",
    "        0.0020176247114933833,\n",
    "        0.0,\n",
    "    ],\n",
    "    \"P\": np.reshape(\n",
    "        [\n",
    "            181.33279418945312,\n",
    "            0.0,\n",
    "            321.308646777532,\n",
    "            0.0,\n",
    "            0.0,\n",
    "            230.59254455566406,\n",
    "            277.2216409396642,\n",
    "            0.0,\n",
    "            0.0,\n",
    "            0.0,\n",
    "            1.0,\n",
    "            0.0,\n",
    "        ],\n",
    "        (3, 4),\n",
    "    ),\n",
    "    \"H\": np.reshape(\n",
    "        [\n",
    "            8.56148231e-03,\n",
    "            2.22480148e-01,\n",
    "            4.24318934e-01,\n",
    "            -5.67022044e-01,\n",
    "            -1.13258040e-03,\n",
    "            6.81113839e-04,\n",
    "            5.80917161e-02,\n",
    "            4.35079347e00,\n",
    "            1.0,\n",
    "        ],\n",
    "        (3, 3),\n",
    "    ),\n",
    "}\n",
    "\n",
    "\n",
    "## Duckiematrix only\n",
    "# import os\n",
    "# os.environ[\"DUCKIEMATRIX_ENGINE_HOST\"] = \"172.17.0.1\"\n",
    "# VEHICLE_NAME: str = \"map_0/vehicle_0\""
   ]
  },
  {
   "cell_type": "code",
   "execution_count": null,
   "metadata": {},
   "outputs": [],
   "source": [
    "## Real Duckiebot only\n",
    "\n",
    "import os\n",
    "from duckietown.types import CameraParameters\n",
    "\n",
    "# TODO: change this to the name of your Duckiebot\n",
    "VEHICLE_NAME: str = \"db21j3\"\n",
    "\n",
    "# TODO: change this to your duckiebot's camera parameters\n",
    "CAMERA_PARAMETERS: CameraParameters = {\n",
    "    \"width\": 640,\n",
    "    \"height\": 480,\n",
    "    \"K\": np.reshape(\n",
    "        [\n",
    "            295.79606866959824,\n",
    "            0.0,\n",
    "            321.2621599038631,\n",
    "            0.0,\n",
    "            299.5389048862878,\n",
    "            241.73616515312332,\n",
    "            0.0,\n",
    "            0.0,\n",
    "            1.0,\n",
    "        ],\n",
    "        (3, 3),\n",
    "    ),\n",
    "    \"D\": [\n",
    "        -0.23543978771661125,\n",
    "        0.03637781479419574,\n",
    "        -0.0033069818601306755,\n",
    "        -0.0012140708179525926,\n",
    "        0.0,\n",
    "    ],\n",
    "    \"P\": np.reshape(\n",
    "        [\n",
    "            201.14027404785156,\n",
    "            0.0,\n",
    "            319.5586620845679,\n",
    "            0.0,\n",
    "            0.0,\n",
    "            239.74398803710938,\n",
    "            237.60151004037834,\n",
    "            0.0,\n",
    "            0.0,\n",
    "            0.0,\n",
    "            1.0,\n",
    "            0.0,\n",
    "        ],\n",
    "        (3, 4),\n",
    "    ),\n",
    "    \"H\": np.reshape(\n",
    "        [\n",
    "            8.56148231e-03,\n",
    "            2.22480148e-01,\n",
    "            4.24318934e-01,\n",
    "            -5.67022044e-01,\n",
    "            -1.13258040e-03,\n",
    "            6.81113839e-04,\n",
    "            5.80917161e-02,\n",
    "            4.35079347e00,\n",
    "            1.0,\n",
    "        ],\n",
    "        (3, 3),\n",
    "    ),\n",
    "}\n",
    "\n",
    "\n",
    "## Duckiematrix only\n",
    "# import os\n",
    "# os.environ[\"DUCKIEMATRIX_ENGINE_HOST\"] = \"172.17.0.1\"\n",
    "# VEHICLE_NAME: str = \"map_0/vehicle_0\""
   ]
  },
  {
   "cell_type": "code",
   "execution_count": 13,
   "metadata": {},
   "outputs": [
    {
     "name": "stdout",
     "output_type": "stream",
     "text": [
      "Using ROS...\n"
     ]
    }
   ],
   "source": [
    "# Sensor - Camera\n",
    "\n",
    "from duckietown.components.duckiebot import CameraDriverComponent\n",
    "\n",
    "camera: CameraDriverComponent = CameraDriverComponent(vehicle_name=VEHICLE_NAME)"
   ]
  },
  {
   "cell_type": "code",
   "execution_count": 14,
   "metadata": {},
   "outputs": [],
   "source": [
    "# Image Cropping\n",
    "\n",
    "from duckietown.components.lane_following import ImageCropComponent\n",
    "\n",
    "image_crop: ImageCropComponent = ImageCropComponent(parameters=CAMERA_PARAMETERS)"
   ]
  },
  {
   "cell_type": "code",
   "execution_count": 15,
   "metadata": {},
   "outputs": [],
   "source": [
    "# Line Detector\n",
    "\n",
    "from duckietown.components.lane_following import LineDetectorComponent\n",
    "\n",
    "line_detector: LineDetectorComponent = LineDetectorComponent()"
   ]
  },
  {
   "cell_type": "code",
   "execution_count": 16,
   "metadata": {},
   "outputs": [],
   "source": [
    "# Lane Filter\n",
    "\n",
    "from duckietown.components.lane_following import LaneFilterComponent\n",
    "\n",
    "lane_filter: LaneFilterComponent = LaneFilterComponent(camera_parameters=CAMERA_PARAMETERS)"
   ]
  },
  {
   "cell_type": "code",
   "execution_count": 17,
   "metadata": {},
   "outputs": [],
   "source": [
    "# Lane Controller\n",
    "\n",
    "from duckietown.components.lane_following import LaneControllerComponent\n",
    "\n",
    "lane_controller: LaneControllerComponent = LaneControllerComponent()"
   ]
  },
  {
   "cell_type": "code",
   "execution_count": 18,
   "metadata": {},
   "outputs": [],
   "source": [
    "# Inverse Kinematics\n",
    "\n",
    "from duckietown.components.lane_following import InverseKinematicsComponent\n",
    "\n",
    "inverse_kinematics: InverseKinematicsComponent = InverseKinematicsComponent()"
   ]
  },
  {
   "cell_type": "code",
   "execution_count": 19,
   "metadata": {},
   "outputs": [],
   "source": [
    "# PWM Mapper\n",
    "\n",
    "from duckietown.components.lane_following import PWMComponent\n",
    "\n",
    "pwm: PWMComponent = PWMComponent()"
   ]
  },
  {
   "cell_type": "code",
   "execution_count": 20,
   "metadata": {},
   "outputs": [
    {
     "name": "stdout",
     "output_type": "stream",
     "text": [
      "Using ROS...\n"
     ]
    }
   ],
   "source": [
    "# Wheels Driver\n",
    "\n",
    "from duckietown.components.duckiebot import MotorsDriverComponent\n",
    "\n",
    "motors: MotorsDriverComponent = MotorsDriverComponent(vehicle_name=VEHICLE_NAME)"
   ]
  },
  {
   "cell_type": "code",
   "execution_count": 21,
   "metadata": {},
   "outputs": [],
   "source": [
    "# Connect components\n",
    "\n",
    "image_crop.in_bgr.wants(camera.out_bgr)\n",
    "\n",
    "line_detector.in_bgr.wants(image_crop.out_bgr)\n",
    "\n",
    "lane_filter.in_lines.wants(line_detector.out_lines)\n",
    "lane_filter.in_command_time.wants(motors.out_command_time)\n",
    "lane_filter.in_v_omega.wants(lane_controller.out_v_omega)\n",
    "\n",
    "lane_controller.in_d_phi.wants(lane_filter.out_d_phi)\n",
    "\n",
    "inverse_kinematics.in_v_omega.wants(lane_controller.out_v_omega)\n",
    "\n",
    "pwm.in_wl_wr.wants(inverse_kinematics.out_wl_wr)\n",
    "\n",
    "motors.in_pwml_pwmr.wants(pwm.out_pwml_pwmr)"
   ]
  },
  {
   "cell_type": "code",
   "execution_count": 26,
   "metadata": {},
   "outputs": [
    {
     "data": {
      "image/jpeg": "[encoded data removed]",
      "text/plain": [
       "<IPython.core.display.Image object>"
      ]
     },
     "metadata": {},
     "output_type": "display_data"
    },
    {
     "data": {
      "image/jpeg": "[encoded data removed]",
      "text/plain": [
       "<IPython.core.display.Image object>"
      ]
     },
     "metadata": {},
     "output_type": "display_data"
    },
    {
     "data": {
      "text/markdown": [
       "(0.2589506115968954, 0.20692406811426226)"
      ],
      "text/plain": [
       "<IPython.core.display.Markdown object>"
      ]
     },
     "metadata": {},
     "output_type": "display_data"
    }
   ],
   "source": [
    "# Rendering components\n",
    "\n",
    "from duckietown.components.rendering import ImageRendererComponent, TextRendererComponent\n",
    "\n",
    "# define components\n",
    "segments: ImageRendererComponent = ImageRendererComponent()\n",
    "belief: ImageRendererComponent = ImageRendererComponent()\n",
    "pwm_signals: TextRendererComponent = TextRendererComponent()\n",
    "\n",
    "# connect components\n",
    "segments.in_image.wants(lane_filter.out_segments_image)\n",
    "belief.in_image.wants(lane_filter.out_belief_image)\n",
    "pwm_signals.in_data.wants(pwm.out_pwml_pwmr)"
   ]
  },
  {
   "cell_type": "code",
   "execution_count": 31,
   "metadata": {},
   "outputs": [
    {
     "name": "stderr",
     "output_type": "stream",
     "text": [
      "[autoreload of duckietown.components.lane_following failed: Traceback (most recent call last):\n",
      "  File \"/usr/local/lib/python3.8/dist-packages/IPython/extensions/autoreload.py\", line 245, in check\n",
      "    superreload(m, reload, self.old_objects)\n",
      "  File \"/usr/local/lib/python3.8/dist-packages/IPython/extensions/autoreload.py\", line 410, in superreload\n",
      "    update_generic(old_obj, new_obj)\n",
      "  File \"/usr/local/lib/python3.8/dist-packages/IPython/extensions/autoreload.py\", line 347, in update_generic\n",
      "    update(a, b)\n",
      "  File \"/usr/local/lib/python3.8/dist-packages/IPython/extensions/autoreload.py\", line 292, in update_class\n",
      "    if (old_obj == new_obj) is True:\n",
      "ValueError: The truth value of an array with more than one element is ambiguous. Use a.any() or a.all()\n",
      "]\n"
     ]
    },
    {
     "name": "stdout",
     "output_type": "stream",
     "text": [
      "[system]: System booting...\n",
      "[system]: Component CameraDriverComponent@139813064206032 started!\n",
      "[system]: Component ImageCropComponent@139813710453680 started!\n",
      "[system]: Component LineDetectorComponent@139813064206128 started!\n",
      "[system]: Component ImageRendererComponent@139813463266640 started!\n",
      "[system]: Component ImageRendererComponent@139813463267168 started!\n",
      "[system]: Component TextRendererComponent@139813463268272 started!\n",
      "[system]: System running...\n",
      "[system]: Stopping component CameraDriverComponent@139813064206032...\n",
      "[system]: Stopping component ImageCropComponent@139813710453680...\n",
      "[system]: Stopping component LineDetectorComponent@139813064206128...\n",
      "[system]: Stopping component ImageRendererComponent@139813463266640...\n",
      "[system]: Stopping component ImageRendererComponent@139813463267168...\n",
      "[system]: Stopping component TextRendererComponent@139813463268272...\n",
      "[system]: Waiting for component CameraDriverComponent@139813064206032...\n",
      "[system]: Component CameraDriverComponent@139813064206032 finished\n",
      "[system]: Waiting for component ImageCropComponent@139813710453680...\n",
      "[system]: Component ImageCropComponent@139813710453680 finished\n",
      "[system]: Waiting for component LineDetectorComponent@139813064206128...\n",
      "[system]: Component LineDetectorComponent@139813064206128 finished\n",
      "[system]: Waiting for component ImageRendererComponent@139813463266640...\n",
      "[system]: Component ImageRendererComponent@139813463266640 finished\n",
      "[system]: Waiting for component ImageRendererComponent@139813463267168...\n",
      "[system]: Component ImageRendererComponent@139813463267168 finished\n",
      "[system]: Waiting for component TextRendererComponent@139813463268272...\n",
      "[system]: Component TextRendererComponent@139813463268272 finished\n"
     ]
    }
   ],
   "source": [
    "import time\n",
    "from typing import List\n",
    "\n",
    "from duckietown.components.base import Component\n",
    "from duckietown.system import System\n",
    "\n",
    "# list of components to run\n",
    "components: List[Component] = [\n",
    "    camera,\n",
    "    image_crop,\n",
    "    line_detector,\n",
    "    # lane_filter,\n",
    "    # lane_controller,\n",
    "    # inverse_kinematics,\n",
    "    # pwm,\n",
    "    # motors,\n",
    "    # rendering\n",
    "    segments,\n",
    "    belief,\n",
    "    pwm_signals\n",
    "]\n",
    "\n",
    "# create system\n",
    "system: System = System(components)\n",
    "\n",
    "# run system (NOTE: this is blocking)\n",
    "system.run()"
   ]
  },
  {
   "cell_type": "code",
   "execution_count": null,
   "metadata": {},
   "outputs": [],
   "source": []
  }
 ],
 "metadata": {
  "celltoolbar": "Raw Cell Format",
  "kernelspec": {
   "display_name": "Python 3.8.10 64-bit",
   "language": "python",
   "name": "python3"
  },
  "language_info": {
   "codemirror_mode": {
    "name": "ipython",
    "version": 3
   },
   "file_extension": ".py",
   "mimetype": "text/x-python",
   "name": "python",
   "nbconvert_exporter": "python",
   "pygments_lexer": "ipython3",
   "version": "3.8.10"
  },
  "vscode": {
   "interpreter": {
    "hash": "916dbcbb3f70747c44a77c7bcd40155683ae19c65e1c03b4aa3499c5328201f1"
   }
  }
 },
 "nbformat": 4,
 "nbformat_minor": 4
}
