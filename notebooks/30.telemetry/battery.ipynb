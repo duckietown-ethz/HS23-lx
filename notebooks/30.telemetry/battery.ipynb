{
 "cells": [
  {
   "cell_type": "markdown",
   "metadata": {},
   "source": [
    "# Telemetry - Battery"
   ]
  },
  {
   "cell_type": "markdown",
   "metadata": {},
   "source": [
    "In this notebook we will learn how to read telemetry data from a Duckiebot's battery using HTTP and then we will make a Battery component."
   ]
  },
  {
   "cell_type": "code",
   "execution_count": null,
   "metadata": {
    "pycharm": {
     "name": "#%%\n"
    }
   },
   "outputs": [],
   "source": [
    "%load_ext autoreload\n",
    "%autoreload 2\n",
    "\n",
    "# TODO: change this to the name of your Duckiebot\n",
    "VEHICLE_NAME: str = \"db21j3\""
   ]
  },
  {
   "cell_type": "code",
   "execution_count": null,
   "metadata": {},
   "outputs": [],
   "source": [
    "# Telemetry - Battery - Read raw data from HTTP\n",
    "\n",
    "import requests\n",
    "\n",
    "# define API url\n",
    "url: str = f\"http://{VEHICLE_NAME}.local/health/battery\"\n",
    "\n",
    "# call API\n",
    "response = requests.get(url)\n",
    "data: dict = response.json()\n",
    "\n",
    "# print response out\n",
    "print(data)"
   ]
  },
  {
   "cell_type": "code",
   "execution_count": null,
   "metadata": {},
   "outputs": [],
   "source": [
    "# Telemetry - Battery - Present results using the BatteryTelemetry class (defined in packages/duckietown/telemetry.py)\n",
    "\n",
    "import requests\n",
    "from duckietown.telemetry import BatteryTelemetry\n",
    "\n",
    "# define API url\n",
    "url: str = f\"http://{VEHICLE_NAME}.local/health/battery\"\n",
    "\n",
    "# call API\n",
    "response = requests.get(url)\n",
    "data: dict = response.json()\n",
    "\n",
    "# instantiate BatteryTelemetry\n",
    "telemetry: BatteryTelemetry = BatteryTelemetry(**data[\"battery\"])\n",
    "\n",
    "# print response out\n",
    "print(telemetry)"
   ]
  },
  {
   "cell_type": "code",
   "execution_count": null,
   "metadata": {},
   "outputs": [],
   "source": [
    "# Telemetry - Battery - Wrap it inside a Component\n",
    "\n",
    "import time\n",
    "import requests\n",
    "from duckietown.types import IQueue, Queue\n",
    "from duckietown.components.base import Component\n",
    "from duckietown.components.rendering import MarkdownRendererComponent\n",
    "from duckietown.system import System\n",
    "\n",
    "\n",
    "class BatteryTelemetryComponent(Component[None, BatteryTelemetry]):\n",
    "\n",
    "    def __init__(self, vehicle_name: str, frequency: float):\n",
    "        super(BatteryTelemetryComponent, self).__init__()\n",
    "        assert frequency > 0\n",
    "        # define url\n",
    "        self._url: str = f\"http://{vehicle_name}.local/health/battery\"\n",
    "        self._frequency: float = frequency\n",
    "        # queues\n",
    "        self.out_data: IQueue = Queue()\n",
    "    \n",
    "    def worker(self):\n",
    "        while not self.is_shutdown:\n",
    "            # call API\n",
    "            response = requests.get(self._url)\n",
    "            data: dict = response.json()\n",
    "            # instantiate BatteryTelemetry\n",
    "            telemetry: BatteryTelemetry = BatteryTelemetry(**data[\"battery\"])\n",
    "            # send data out\n",
    "            self.out_data.put(telemetry)\n",
    "            # wait\n",
    "            time.sleep(1.0 / self._frequency)\n",
    "\n",
    "\n",
    "def formatter(data: BatteryTelemetry) -> str:\n",
    "    return f\"\"\"```json\\n{data.as_json()}\\n```\"\"\"\n",
    "\n",
    "\n",
    "# test it by connecting it to a renderer node\n",
    "battery: BatteryTelemetryComponent = BatteryTelemetryComponent(VEHICLE_NAME, 2)\n",
    "renderer: MarkdownRendererComponent = MarkdownRendererComponent(formatter)\n",
    "\n",
    "# connect components\n",
    "renderer.in_data.wants(battery.out_data)\n",
    "\n",
    "# create system\n",
    "system: System = System([battery, renderer])\n",
    "\n",
    "# run system (NOTE: this is blocking)\n",
    "system.run()"
   ]
  },
  {
   "cell_type": "code",
   "execution_count": null,
   "metadata": {},
   "outputs": [],
   "source": []
  }
 ],
 "metadata": {
  "celltoolbar": "Raw Cell Format",
  "kernelspec": {
   "display_name": "Python 3.8.10 64-bit",
   "language": "python",
   "name": "python3"
  },
  "language_info": {
   "codemirror_mode": {
    "name": "ipython",
    "version": 3
   },
   "file_extension": ".py",
   "mimetype": "text/x-python",
   "name": "python",
   "nbconvert_exporter": "python",
   "pygments_lexer": "ipython3",
   "version": "3.8.10"
  },
  "vscode": {
   "interpreter": {
    "hash": "916dbcbb3f70747c44a77c7bcd40155683ae19c65e1c03b4aa3499c5328201f1"
   }
  }
 },
 "nbformat": 4,
 "nbformat_minor": 4
}
