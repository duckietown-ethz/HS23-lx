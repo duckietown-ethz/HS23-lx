{
 "cells": [
  {
   "cell_type": "markdown",
   "metadata": {},
   "source": [
    "# Odometer\n",
    "\n",
    "Integrates the velocity of the robot over time in order to continuously obtain a pose estimate that is relative to the pose at which the integration started."
   ]
  },
  {
   "cell_type": "code",
   "execution_count": null,
   "metadata": {},
   "outputs": [],
   "source": [
    "%load_ext autoreload\n",
    "%autoreload 2\n",
    "\n",
    "import time\n",
    "from duckietown.components import OdometryComponent, Pose2DEstimate"
   ]
  },
  {
   "cell_type": "markdown",
   "metadata": {},
   "source": [
    "## Simplest scenario: No motion"
   ]
  },
  {
   "cell_type": "code",
   "execution_count": null,
   "metadata": {},
   "outputs": [],
   "source": [
    "# create and start odometer\n",
    "odometer: OdometryComponent = OdometryComponent()\n",
    "odometer.start()\n",
    "\n",
    "v, omega = 0, 0\n",
    "delta_t: float = 1\n",
    "\n",
    "for _ in range(0, 5, delta_t):\n",
    "    odometer.in_speed.put((v, omega))\n",
    "    time.sleep(delta_t)\n",
    "    pose: Pose2DEstimate = odometer.out_pose.get()\n",
    "    print(f\"< Estimated pose: {pose}\")\n",
    "    print(f\"> Driving with speed v={v}, omega={omega} for the next {delta_t} second(s)\\n\")\n",
    "\n",
    "odometer.stop()"
   ]
  },
  {
   "cell_type": "markdown",
   "metadata": {},
   "source": [
    "## Simple scenario: Driving in a straight line"
   ]
  },
  {
   "cell_type": "code",
   "execution_count": null,
   "metadata": {},
   "outputs": [],
   "source": [
    "# create and start odometer\n",
    "odometer: OdometryComponent = OdometryComponent()\n",
    "odometer.start()\n",
    "\n",
    "v, omega = 1, 0\n",
    "delta_t: float = 1\n",
    "\n",
    "for _ in range(0, 5, delta_t):\n",
    "    odometer.in_speed.put((v, omega))\n",
    "    pose: Pose2DEstimate = odometer.out_pose.get()\n",
    "    print(f\"< Estimated pose: {pose}\")\n",
    "    print(f\"> Driving with speed v={v}, omega={omega} for the next {delta_t} second(s)\\n\")\n",
    "    time.sleep(delta_t)\n",
    "\n",
    "# stop the motion\n",
    "odometer.in_speed.put((0, 0))\n",
    "pose: Pose2DEstimate = odometer.out_pose.get()\n",
    "print(f\"< Estimated pose: {pose}\")\n",
    "\n",
    "odometer.stop()"
   ]
  },
  {
   "cell_type": "markdown",
   "metadata": {},
   "source": [
    "##### NOTE: The Odometer is purely reactive\n",
    "\n",
    "As the odometer can only estimate the motion for speeds that applied for a finite interval of time, we notice a delay of 1 \"interval\" in the estimation.\n",
    "This is normal, the odometer only computes the pose when a new command is given. So, if you try to query for a new pose without setting a new speed your code will block indefinitely."
   ]
  },
  {
   "cell_type": "markdown",
   "metadata": {},
   "source": [
    "## Simulate time\n",
    "\n",
    "Sometimes we want to simulate time as well. There is a separate port on the Odometry component that takes in both velocities and time of measurement.\n",
    "We will also see how the estimate is a lot more precise as we are not relying on `time.sleep()` to simulate time."
   ]
  },
  {
   "cell_type": "code",
   "execution_count": null,
   "metadata": {},
   "outputs": [],
   "source": [
    "# create and start odometer\n",
    "odometer: OdometryComponent = OdometryComponent()\n",
    "odometer.start()\n",
    "\n",
    "v, omega = 1, 0\n",
    "delta_t: float = 1\n",
    "T: float = 5\n",
    "\n",
    "for t in range(0, T, delta_t):\n",
    "    odometer.in_timed_speed.put((v, omega, t))\n",
    "    pose: Pose2DEstimate = odometer.out_pose.get()\n",
    "    print(f\"< Estimated pose: {pose}\")\n",
    "    print(f\"> Driving with speed v={v}, omega={omega} for the next {delta_t} second(s)\\n\")\n",
    "\n",
    "# stop the motion\n",
    "odometer.in_timed_speed.put((0, 0, T))\n",
    "pose: Pose2DEstimate = odometer.out_pose.get()\n",
    "print(f\"< Estimated pose: {pose}\")\n",
    "\n",
    "odometer.stop()"
   ]
  },
  {
   "cell_type": "markdown",
   "metadata": {},
   "source": [
    "## Steering\n",
    "\n",
    "Let's make a full donut or radius `2` meters in `4` seconds."
   ]
  },
  {
   "cell_type": "code",
   "execution_count": null,
   "metadata": {},
   "outputs": [],
   "source": [
    "import numpy as np\n",
    "\n",
    "# create and start odometer\n",
    "odometer: OdometryComponent = OdometryComponent()\n",
    "odometer.start()\n",
    "\n",
    "# define period, speeds, and radius\n",
    "T: float = 4\n",
    "radius: float = 2.0\n",
    "delta_t: float = 1\n",
    "\n",
    "# compute linear and angular velocities needed to achieve the circle defined above\n",
    "v: float = (2 * np.pi * radius) / T\n",
    "omega: float = (v / radius)\n",
    "\n",
    "for t in range(0, T, delta_t):\n",
    "    odometer.in_timed_speed.put((v, omega, t))\n",
    "    pose: Pose2DEstimate = odometer.out_pose.get()\n",
    "    print(f\"< Estimated pose: {pose}\")\n",
    "    print(f\"> Driving with speed v={v}, omega={omega} for the next {delta_t} second(s)\\n\")\n",
    "\n",
    "# stop the motion\n",
    "odometer.in_timed_speed.put((0, 0, T))\n",
    "pose: Pose2DEstimate = odometer.out_pose.get()\n",
    "print(f\"< Estimated pose: {pose}\")\n",
    "\n",
    "odometer.stop()"
   ]
  },
  {
   "cell_type": "code",
   "execution_count": null,
   "metadata": {},
   "outputs": [],
   "source": []
  }
 ],
 "metadata": {
  "kernelspec": {
   "display_name": "Python 3.8.10 64-bit",
   "language": "python",
   "name": "python3"
  },
  "language_info": {
   "codemirror_mode": {
    "name": "ipython",
    "version": 3
   },
   "file_extension": ".py",
   "mimetype": "text/x-python",
   "name": "python",
   "nbconvert_exporter": "python",
   "pygments_lexer": "ipython3",
   "version": "3.8.10"
  },
  "orig_nbformat": 4,
  "vscode": {
   "interpreter": {
    "hash": "916dbcbb3f70747c44a77c7bcd40155683ae19c65e1c03b4aa3499c5328201f1"
   }
  }
 },
 "nbformat": 4,
 "nbformat_minor": 2
}
