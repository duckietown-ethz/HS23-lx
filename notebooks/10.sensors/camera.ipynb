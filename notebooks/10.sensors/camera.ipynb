{
 "cells": [
  {
   "cell_type": "markdown",
   "metadata": {},
   "source": [
    "# Sensor - Camera"
   ]
  },
  {
   "cell_type": "markdown",
   "metadata": {},
   "source": [
    "In this notebook we will learn how to use the camera component to retrieve frames from a Duckiebot."
   ]
  },
  {
   "cell_type": "code",
   "execution_count": null,
   "metadata": {
    "pycharm": {
     "name": "#%%\n"
    }
   },
   "outputs": [],
   "source": [
    "%load_ext autoreload\n",
    "%autoreload 1\n",
    "\n",
    "import os\n",
    "\n",
    "import numpy as np\n",
    "import cv2\n",
    "import matplotlib.pyplot as plt\n",
    "\n",
    "\n",
    "# TODO: change this to the name of your Duckiebot\n",
    "VEHICLE_NAME: str = \"db21j3\""
   ]
  },
  {
   "cell_type": "code",
   "execution_count": null,
   "metadata": {},
   "outputs": [],
   "source": [
    "# Sensor - Camera - Capture single frame\n",
    "\n",
    "%matplotlib inline\n",
    "from duckietown.components.duckiebot import CameraDriverComponent\n",
    "\n",
    "# make figure\n",
    "fig = plt.figure(figsize=(16, 9), dpi=96)\n",
    "\n",
    "# define component\n",
    "camera: CameraDriverComponent = CameraDriverComponent(vehicle_name=VEHICLE_NAME)\n",
    "camera.start()\n",
    "\n",
    "# wait for next frame\n",
    "bgr: np.ndarray = camera.out_bgr.get()\n",
    "\n",
    "# render frame\n",
    "rgb: np.ndarray = cv2.cvtColor(bgr, cv2.COLOR_BGR2RGB)\n",
    "plt.imshow(rgb)\n",
    "\n",
    "# stop component\n",
    "camera.stop()"
   ]
  },
  {
   "cell_type": "code",
   "execution_count": null,
   "metadata": {},
   "outputs": [],
   "source": [
    "# Sensor - Camera - Live Feed\n",
    "\n",
    "import cv2\n",
    "import numpy as np\n",
    "from IPython.display import display, Image\n",
    "\n",
    "from duckietown.components.duckiebot import CameraDriverComponent\n",
    "\n",
    "# make figure\n",
    "figure: display = display(Image(data=b\"\"), display_id=True)\n",
    "\n",
    "# define component\n",
    "camera: CameraDriverComponent = CameraDriverComponent(vehicle_name=VEHICLE_NAME)\n",
    "camera.start()\n",
    "\n",
    "# consume frames\n",
    "try:\n",
    "    while True:\n",
    "        bgr: np.ndarray = camera.out_bgr.get()\n",
    "        # bgr -> jpeg\n",
    "        _, jpg = cv2.imencode('.jpeg', bgr)\n",
    "        # render frame\n",
    "        figure.update(Image(data=jpg.tobytes()))\n",
    "except KeyboardInterrupt:\n",
    "    pass\n",
    "finally:\n",
    "    # stop component\n",
    "    camera.stop()\n"
   ]
  },
  {
   "cell_type": "code",
   "execution_count": null,
   "metadata": {},
   "outputs": [],
   "source": [
    "# Sensor - Camera - Live Feed using a Renderer Component\n",
    "\n",
    "import cv2\n",
    "import numpy as np\n",
    "from IPython.display import display, Image\n",
    "\n",
    "from duckietown.components.duckiebot import CameraDriverComponent\n",
    "from duckietown.components.rendering import ImageRendererComponent\n",
    "\n",
    "# define components\n",
    "camera: CameraDriverComponent = CameraDriverComponent(vehicle_name=VEHICLE_NAME)\n",
    "renderer: ImageRendererComponent = ImageRendererComponent()\n",
    "\n",
    "# connect components\n",
    "renderer.in_image.wants(camera.out_bgr)\n",
    "\n",
    "# start components\n",
    "camera.start()\n",
    "renderer.start()\n",
    "\n",
    "# wait until the cell is stopped\n",
    "renderer.join()\n",
    "\n",
    "# stop components\n",
    "camera.stop()\n",
    "renderer.stop()"
   ]
  },
  {
   "cell_type": "code",
   "execution_count": null,
   "metadata": {},
   "outputs": [],
   "source": [
    "# Sensor - Camera - Live Feed using a Renderer Component - Using a System\n",
    "\n",
    "import cv2\n",
    "import numpy as np\n",
    "from IPython.display import display, Image\n",
    "\n",
    "from duckietown.components.duckiebot import CameraDriverComponent\n",
    "from duckietown.components.rendering import ImageRendererComponent\n",
    "from duckietown.system import System\n",
    "\n",
    "# define components\n",
    "camera: CameraDriverComponent = CameraDriverComponent(vehicle_name=VEHICLE_NAME)\n",
    "renderer: ImageRendererComponent = ImageRendererComponent()\n",
    "\n",
    "# connect components\n",
    "renderer.in_image.wants(camera.out_bgr)\n",
    "\n",
    "# create system\n",
    "system: System = System([camera, renderer])\n",
    "\n",
    "# run system\n",
    "system.run()"
   ]
  },
  {
   "cell_type": "code",
   "execution_count": null,
   "metadata": {},
   "outputs": [],
   "source": []
  }
 ],
 "metadata": {
  "celltoolbar": "Raw Cell Format",
  "kernelspec": {
   "display_name": "Python 3.8.10 64-bit",
   "language": "python",
   "name": "python3"
  },
  "language_info": {
   "codemirror_mode": {
    "name": "ipython",
    "version": 3
   },
   "file_extension": ".py",
   "mimetype": "text/x-python",
   "name": "python",
   "nbconvert_exporter": "python",
   "pygments_lexer": "ipython3",
   "version": "3.8.10"
  },
  "vscode": {
   "interpreter": {
    "hash": "916dbcbb3f70747c44a77c7bcd40155683ae19c65e1c03b4aa3499c5328201f1"
   }
  }
 },
 "nbformat": 4,
 "nbformat_minor": 4
}
