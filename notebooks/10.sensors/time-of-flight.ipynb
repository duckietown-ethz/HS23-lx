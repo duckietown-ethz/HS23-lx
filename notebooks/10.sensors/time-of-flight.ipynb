{
 "cells": [
  {
   "cell_type": "markdown",
   "metadata": {},
   "source": [
    "# Sensor - Time of Flight"
   ]
  },
  {
   "cell_type": "markdown",
   "metadata": {},
   "source": [
    "In this notebook we will learn how to use the time-of-flight component to retrieve distance readings from a Duckiebot."
   ]
  },
  {
   "cell_type": "code",
   "execution_count": 1,
   "metadata": {
    "pycharm": {
     "name": "#%%\n"
    }
   },
   "outputs": [],
   "source": [
    "%load_ext autoreload\n",
    "%autoreload 2\n",
    "\n",
    "import os\n",
    "\n",
    "import numpy as np\n",
    "import cv2\n",
    "import matplotlib.pyplot as plt\n",
    "\n",
    "\n",
    "# TODO: change this to the name of your Duckiebot\n",
    "VEHICLE_NAME: str = \"kizzy\""
   ]
  },
  {
   "cell_type": "code",
   "execution_count": 2,
   "metadata": {},
   "outputs": [
    {
     "name": "stdout",
     "output_type": "stream",
     "text": [
      "Using ROS...\n",
      "Distance: 0.16m\n"
     ]
    }
   ],
   "source": [
    "# Sensor - Time-of-Flight - Capture single distance reading\n",
    "\n",
    "from typing import Optional\n",
    "from duckietown.components.duckiebot import TimeOfFlightDriverComponent\n",
    "\n",
    "# define component\n",
    "tof: TimeOfFlightDriverComponent = TimeOfFlightDriverComponent(vehicle_name=VEHICLE_NAME)\n",
    "tof.start()\n",
    "\n",
    "# wait for next reading\n",
    "range: Optional[float] = tof.out_range.get()\n",
    "\n",
    "# print distance\n",
    "if range:\n",
    "    print(f\"Distance: {range:.2f}m\")\n",
    "else:\n",
    "    print(\"Out-of-range\")\n",
    "\n",
    "# stop component\n",
    "tof.stop()"
   ]
  },
  {
   "cell_type": "code",
   "execution_count": 3,
   "metadata": {},
   "outputs": [
    {
     "name": "stdout",
     "output_type": "stream",
     "text": [
      "Using ROS...\n"
     ]
    },
    {
     "data": {
      "text/markdown": [
       "None"
      ],
      "text/plain": [
       "<IPython.core.display.Markdown object>"
      ]
     },
     "metadata": {},
     "output_type": "display_data"
    }
   ],
   "source": [
    "# Sensor - Time-of-Flight - Continuous reading\n",
    "\n",
    "from typing import Optional\n",
    "from duckietown.components.duckiebot import TimeOfFlightDriverComponent\n",
    "from duckietown.components.rendering import TextRendererComponent\n",
    "\n",
    "# define components\n",
    "tof: TimeOfFlightDriverComponent = TimeOfFlightDriverComponent(vehicle_name=VEHICLE_NAME)\n",
    "renderer: TextRendererComponent = TextRendererComponent()\n",
    "\n",
    "# connect components\n",
    "renderer.in_data.wants(tof.out_range)\n",
    "\n",
    "# start components\n",
    "tof.start()\n",
    "renderer.start()\n",
    "\n",
    "# wait until the cell is stopped\n",
    "renderer.join()\n",
    "\n",
    "# stop components\n",
    "tof.stop()\n",
    "renderer.stop()"
   ]
  },
  {
   "cell_type": "code",
   "execution_count": null,
   "metadata": {},
   "outputs": [],
   "source": [
    "# Sensor - Time-of-Flight - Continuous reading with Formatting\n",
    "\n",
    "from typing import Optional\n",
    "from duckietown.components.duckiebot import TimeOfFlightDriverComponent\n",
    "from duckietown.components.rendering import MarkdownRendererComponent\n",
    "\n",
    "\n",
    "# define format function\n",
    "def format(range: Optional[float]) -> str:\n",
    "    if range is None:\n",
    "        return \"### **Time-of-flight sensor**: Out-of-range\"\n",
    "    return f\"### **Time-of-flight sensor**: {range:.2f}m\"\n",
    "\n",
    "# define components\n",
    "tof: TimeOfFlightDriverComponent = TimeOfFlightDriverComponent(vehicle_name=VEHICLE_NAME)\n",
    "renderer: MarkdownRendererComponent = MarkdownRendererComponent(formatter=format)\n",
    "\n",
    "# connect components\n",
    "renderer.in_data.wants(tof.out_range)\n",
    "\n",
    "# start components\n",
    "tof.start()\n",
    "renderer.start()\n",
    "\n",
    "# wait until the cell is stopped\n",
    "renderer.join()\n",
    "\n",
    "# stop components\n",
    "tof.stop()\n",
    "renderer.stop()"
   ]
  },
  {
   "cell_type": "code",
   "execution_count": null,
   "metadata": {},
   "outputs": [],
   "source": []
  }
 ],
 "metadata": {
  "celltoolbar": "Raw Cell Format",
  "kernelspec": {
   "display_name": "Python 3.8.10 64-bit",
   "language": "python",
   "name": "python3"
  },
  "language_info": {
   "codemirror_mode": {
    "name": "ipython",
    "version": 3
   },
   "file_extension": ".py",
   "mimetype": "text/x-python",
   "name": "python",
   "nbconvert_exporter": "python",
   "pygments_lexer": "ipython3",
   "version": "3.8.10"
  },
  "vscode": {
   "interpreter": {
    "hash": "916dbcbb3f70747c44a77c7bcd40155683ae19c65e1c03b4aa3499c5328201f1"
   }
  }
 },
 "nbformat": 4,
 "nbformat_minor": 4
}
