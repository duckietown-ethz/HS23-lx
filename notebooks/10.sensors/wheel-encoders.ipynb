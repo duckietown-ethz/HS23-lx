{
 "cells": [
  {
   "cell_type": "markdown",
   "metadata": {},
   "source": [
    "# Sensor - Wheel Encoders"
   ]
  },
  {
   "cell_type": "markdown",
   "metadata": {},
   "source": [
    "In this notebook we will learn how to use the wheel encoder component to retrieve wheel rotation readings from a Duckiebot."
   ]
  },
  {
   "cell_type": "code",
   "execution_count": null,
   "metadata": {
    "pycharm": {
     "name": "#%%\n"
    }
   },
   "outputs": [],
   "source": [
    "%load_ext autoreload\n",
    "%autoreload 2\n",
    "\n",
    "import os\n",
    "\n",
    "import numpy as np\n",
    "import cv2\n",
    "import matplotlib.pyplot as plt\n",
    "\n",
    "\n",
    "# TODO: change this to the name of your Duckiebot\n",
    "VEHICLE_NAME: str = \"db21j3\""
   ]
  },
  {
   "cell_type": "code",
   "execution_count": null,
   "metadata": {},
   "outputs": [],
   "source": [
    "# Sensor - Wheel Encoders - Read ticks from single wheel\n",
    "\n",
    "from typing import Optional\n",
    "from duckietown.components.ros import WheelEncoderDriverComponent\n",
    "\n",
    "# define component\n",
    "left_wheel_encoder: WheelEncoderDriverComponent = WheelEncoderDriverComponent(vehicle_name=VEHICLE_NAME, side=\"left\")\n",
    "left_wheel_encoder.start()\n",
    "\n",
    "# wait for next reading\n",
    "ticks: int = left_wheel_encoder.out_ticks.get()\n",
    "\n",
    "# print number of ticks (since the robot turned ON)\n",
    "print(f\"Number of ticks: {ticks}\\nResolution: {left_wheel_encoder.resolution} ticks/2π\")\n",
    "\n",
    "# stop component\n",
    "left_wheel_encoder.stop()"
   ]
  },
  {
   "cell_type": "code",
   "execution_count": null,
   "metadata": {},
   "outputs": [],
   "source": [
    "# Sensor - Time-of-Flight - Continuous reading from both wheel\n",
    "\n",
    "from typing import Optional, Tuple\n",
    "from functools import partial\n",
    "\n",
    "from duckietown.components.ros import WheelEncoderDriverComponent \n",
    "from duckietown.components.utilities import SynchronizerComponent\n",
    "from duckietown.components.rendering import MarkdownRendererComponent\n",
    "\n",
    "\n",
    "WHEEL_RADIUS: float = 0.0318\n",
    "\n",
    "\n",
    "# define format function\n",
    "def format(left_wheel_encoder: WheelEncoderDriverComponent, right_wheel_encoder: WheelEncoderDriverComponent, ticks: Tuple[int, int]) -> str:\n",
    "    left_ticks, right_ticks = ticks\n",
    "    left_revols, right_revols = left_ticks / left_wheel_encoder.resolution, right_ticks / right_wheel_encoder.resolution\n",
    "    left_rads, right_rads = left_revols * 2 * np.pi, right_revols * 2 * np.pi\n",
    "    left_odom, right_odom = 2 * np.pi * WHEEL_RADIUS * left_revols, 2 * np.pi * WHEEL_RADIUS * right_revols\n",
    "    text: str = f\"\"\"\n",
    "| Wheel              | # Ticks       | Radians              | # Revolutions      | Odometer           |\n",
    "| :----------------- | :-----------: | -------------------: | -----------------: | -----------------: |\n",
    "| Left               | {left_ticks}  | {left_rads:.2f} rad  | {left_revols:.2f}  | {left_odom:.2f} m  |\n",
    "| Right              | {right_ticks} | {right_rads:.2f} rad | {right_revols:.2f} | {right_odom:.2f} m |\n",
    "\"\"\"\n",
    "    return text\n",
    "\n",
    "# define components\n",
    "left_wheel_encoder: WheelEncoderDriverComponent = WheelEncoderDriverComponent(vehicle_name=VEHICLE_NAME, side=\"left\")\n",
    "right_wheel_encoder: WheelEncoderDriverComponent = WheelEncoderDriverComponent(vehicle_name=VEHICLE_NAME, side=\"right\")\n",
    "synchronizer: SynchronizerComponent = SynchronizerComponent((left_wheel_encoder.out_ticks, right_wheel_encoder.out_ticks))\n",
    "renderer: MarkdownRendererComponent = MarkdownRendererComponent(formatter=partial(format, left_wheel_encoder, right_wheel_encoder))\n",
    "\n",
    "# connect components\n",
    "renderer.in_data.wants(synchronizer.out_data)\n",
    "\n",
    "# start components\n",
    "left_wheel_encoder.start()\n",
    "right_wheel_encoder.start()\n",
    "renderer.start()\n",
    "synchronizer.start()\n",
    "\n",
    "# wait until the cell is stopped\n",
    "renderer.join()\n",
    "\n",
    "# stop components\n",
    "left_wheel_encoder.stop()\n",
    "right_wheel_encoder.stop()\n",
    "renderer.stop()\n",
    "synchronizer.stop()"
   ]
  },
  {
   "cell_type": "code",
   "execution_count": null,
   "metadata": {},
   "outputs": [],
   "source": []
  }
 ],
 "metadata": {
  "celltoolbar": "Raw Cell Format",
  "kernelspec": {
   "display_name": "Python 3.8.10 64-bit",
   "language": "python",
   "name": "python3"
  },
  "language_info": {
   "codemirror_mode": {
    "name": "ipython",
    "version": 3
   },
   "file_extension": ".py",
   "mimetype": "text/x-python",
   "name": "python",
   "nbconvert_exporter": "python",
   "pygments_lexer": "ipython3",
   "version": "3.8.10"
  },
  "vscode": {
   "interpreter": {
    "hash": "916dbcbb3f70747c44a77c7bcd40155683ae19c65e1c03b4aa3499c5328201f1"
   }
  }
 },
 "nbformat": 4,
 "nbformat_minor": 4
}
