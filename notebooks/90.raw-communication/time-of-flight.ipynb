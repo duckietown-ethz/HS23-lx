{
 "cells": [
  {
   "cell_type": "markdown",
   "metadata": {},
   "source": [
    "# Sensor - Time of Flight"
   ]
  },
  {
   "cell_type": "markdown",
   "metadata": {},
   "source": [
    "In this notebook we will learn how to use the time-of-flight component to retrieve distance readings from a Duckiebot."
   ]
  },
  {
   "cell_type": "code",
   "execution_count": null,
   "metadata": {
    "pycharm": {
     "name": "#%%\n"
    }
   },
   "outputs": [],
   "source": [
    "%load_ext autoreload\n",
    "%autoreload 2\n",
    "\n",
    "import os\n",
    "\n",
    "import numpy as np\n",
    "import cv2\n",
    "import matplotlib.pyplot as plt\n",
    "\n",
    "\n",
    "# TODO: change this to the name of your Duckiebot\n",
    "VEHICLE_NAME: str = \"db21j3\""
   ]
  },
  {
   "cell_type": "code",
   "execution_count": null,
   "metadata": {},
   "outputs": [],
   "source": [
    "# Sensor - Time-of-Flight - Capture single distance reading - Raw\n",
    "\n",
    "from typing import Optional\n",
    "from duckietown.components.raw import RawSubscriberComponent\n",
    "\n",
    "# NOTE: Message definitions are stored here:\n",
    "#\n",
    "#        https://github.com/duckietown/dt-ros-commons/tree/daffy/packages/duckietown_msgs/msg\n",
    "#\n",
    "\n",
    "# define component\n",
    "tof: RawSubscriberComponent = RawSubscriberComponent(VEHICLE_NAME, \"/front_center_tof_driver_node/range\", \"sensor_msgs/Range\")\n",
    "tof.start()\n",
    "\n",
    "# wait for next reading\n",
    "range: Optional[dict] = tof.out_raw.get()\n",
    "\n",
    "# print distance\n",
    "print(range)\n",
    "\n",
    "# stop component\n",
    "tof.stop()"
   ]
  },
  {
   "cell_type": "code",
   "execution_count": null,
   "metadata": {},
   "outputs": [],
   "source": []
  }
 ],
 "metadata": {
  "celltoolbar": "Raw Cell Format",
  "kernelspec": {
   "display_name": "Python 3.8.10 64-bit",
   "language": "python",
   "name": "python3"
  },
  "language_info": {
   "codemirror_mode": {
    "name": "ipython",
    "version": 3
   },
   "file_extension": ".py",
   "mimetype": "text/x-python",
   "name": "python",
   "nbconvert_exporter": "python",
   "pygments_lexer": "ipython3",
   "version": "3.8.10"
  },
  "vscode": {
   "interpreter": {
    "hash": "916dbcbb3f70747c44a77c7bcd40155683ae19c65e1c03b4aa3499c5328201f1"
   }
  }
 },
 "nbformat": 4,
 "nbformat_minor": 4
}
