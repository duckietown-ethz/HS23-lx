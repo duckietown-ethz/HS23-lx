{
 "cells": [
  {
   "cell_type": "markdown",
   "metadata": {},
   "source": [
    "# Lane Filter"
   ]
  },
  {
   "cell_type": "code",
   "execution_count": null,
   "metadata": {
    "pycharm": {
     "name": "#%%\n"
    }
   },
   "outputs": [],
   "source": [
    "import os\n",
    "os.environ.setdefault(\"DISABLE_CONTRACTS\", \"1\")\n",
    "\n",
    "import time\n",
    "import cv2\n",
    "import numpy as np\n",
    "\n",
    "import matplotlib\n",
    "import matplotlib.pyplot as plt\n",
    "%matplotlib inline\n",
    "matplotlib.rc(\"figure\", dpi=50)\n",
    "\n",
    "import ipywidgets as widgets\n",
    "from ipywidgets import interact\n",
    "\n",
    "from dt_state_estimation.lane_filter import LaneFilterHistogram\n",
    "from dt_state_estimation.lane_filter.types import Segment, SegmentPoint, SegmentColor\n",
    "\n",
    "from dt_state_estimation.lane_filter.rendering import plot_belief, plot_d_phi"
   ]
  },
  {
   "cell_type": "code",
   "execution_count": null,
   "metadata": {
    "pycharm": {
     "name": "#%%\n"
    }
   },
   "outputs": [],
   "source": [
    "# constants\n",
    "segment_length: float = 0.1\n",
    "lane_width: float = 0.225\n",
    "half_lane: float = lane_width * 0.5\n",
    "distance: float = 0.0\n",
    "\n",
    "# create filter\n",
    "filter = LaneFilterHistogram()\n",
    "\n",
    "def run_filter(lateral_shift: float, rotation: float):\n",
    "    \"\"\"\n",
    "    Args:\n",
    "        lateral_shift `float`:  A positive number shifts the segments to the robot's left, effectively \n",
    "                                pushing the pose towards the right curb.\n",
    "                                A negative number shifts the segments to the robot's right, effectively \n",
    "                                pushing the pose towards the yellow line.\n",
    "                                \n",
    "        rotation `float`:       A positive rotation indicates an angle going from the robot's x-axis towards \n",
    "                                its y-axis.\n",
    "                                Positive rotations here simulate left curves, where the white markings appear \n",
    "                                in front of the robot, only white segments have a vote in this case.\n",
    "                                Negative rotations instead simulate right curves, where the yellow markings \n",
    "                                appear in front of the robot, only yellow segments have a vote in this case.\n",
    "    \"\"\"\n",
    "    # simple 2D rotation, used to rotate the segments about the robot's origin\n",
    "    R = np.array([\n",
    "        [np.cos(rotation), -np.sin(rotation), 0],\n",
    "        [np.sin(rotation), np.cos(rotation), 0],\n",
    "        [0, 0, 1]\n",
    "    ])\n",
    "\n",
    "    # white segment (controls left curves, which is a positive `rotation` above)\n",
    "    p0 = np.array([distance, lateral_shift - half_lane, 1])\n",
    "    p1 = np.array([distance + segment_length, lateral_shift - half_lane, 1])\n",
    "\n",
    "    # rotate white segment\n",
    "    p0 = np.dot(R, p0)\n",
    "    p1 = np.dot(R, p1)\n",
    "\n",
    "    white_segment = Segment(\n",
    "        points=[\n",
    "            SegmentPoint(p0[0], p0[1]),\n",
    "            SegmentPoint(p1[0], p1[1]),\n",
    "        ],\n",
    "        color=SegmentColor.WHITE\n",
    "    )\n",
    "\n",
    "    # yellow segment (controls right curves, which is a negative `rotation` above)\n",
    "    p0 = np.array([distance, lateral_shift + half_lane, 1])\n",
    "    p1 = np.array([distance + segment_length, lateral_shift + half_lane, 1])\n",
    "\n",
    "    # rotate yellow segment\n",
    "    p0 = np.dot(R, p0)\n",
    "    p1 = np.dot(R, p1)\n",
    "\n",
    "    yellow_segment = Segment(\n",
    "        points=[\n",
    "            SegmentPoint(p1[0], p1[1]),\n",
    "            SegmentPoint(p0[0], p0[1]),\n",
    "        ],\n",
    "        color=SegmentColor.YELLOW\n",
    "    )\n",
    "\n",
    "    # apply update\n",
    "    filter.update([white_segment, yellow_segment])"
   ]
  },
  {
   "cell_type": "code",
   "execution_count": null,
   "metadata": {
    "pycharm": {
     "name": "#%%\n"
    }
   },
   "outputs": [],
   "source": [
    "%matplotlib inline\n",
    "matplotlib.rc(\"figure\", dpi=300)\n",
    "\n",
    "# create simple observation\n",
    "run_filter(0, 0)\n",
    "\n",
    "# plot belief\n",
    "bgr = plot_belief(filter, dpi=300)\n",
    "rgb = cv2.cvtColor(bgr, cv2.COLOR_BGR2RGB)\n",
    "\n",
    "plt.axis('off')\n",
    "plt.imshow(rgb)"
   ]
  },
  {
   "cell_type": "code",
   "execution_count": null,
   "metadata": {
    "scrolled": false
   },
   "outputs": [],
   "source": [
    "def _update_plot(_ls, _rot):\n",
    "    # create simple observation\n",
    "    stime = time.time()\n",
    "    run_filter(_ls, _rot)\n",
    "    d, phi = filter.get_estimate()\n",
    "    print(f\"Filter updated in {(time.time() - stime) * 1000:.3f}ms; d={d}, phi={phi}\")\n",
    "    # plot belief (choose one of the two plots)\n",
    "    # - plot type 1\n",
    "    bgr = plot_d_phi(d, phi)\n",
    "    # - plot type 2\n",
    "    # bgr = plot_belief(filter, dpi=300)\n",
    "    # show image\n",
    "    rgb = cv2.cvtColor(bgr, cv2.COLOR_BGR2RGB)\n",
    "    plt.axis('off')\n",
    "    plt.imshow(rgb)\n",
    "\n",
    "def on_change(x: float, y: float):\n",
    "    _update_plot(x, np.deg2rad(y))\n",
    "\n",
    "interact(\n",
    "    on_change, \n",
    "    # lateral shift bar\n",
    "    x=widgets.FloatSlider(min=-0.3, max=0.15, step=0.01, value=0, continuous_update=False),\n",
    "    # rotation bar\n",
    "    y=widgets.FloatSlider(min=-80, max=80, step=5, value=0, continuous_update=False)\n",
    ")"
   ]
  },
  {
   "cell_type": "code",
   "execution_count": null,
   "metadata": {
    "pycharm": {
     "name": "#%%\n"
    }
   },
   "outputs": [],
   "source": []
  }
 ],
 "metadata": {
  "celltoolbar": "Raw Cell Format",
  "kernelspec": {
   "display_name": "Python 3.8.10 64-bit",
   "language": "python",
   "name": "python3"
  },
  "language_info": {
   "codemirror_mode": {
    "name": "ipython",
    "version": 3
   },
   "file_extension": ".py",
   "mimetype": "text/x-python",
   "name": "python",
   "nbconvert_exporter": "python",
   "pygments_lexer": "ipython3",
   "version": "3.8.10"
  },
  "vscode": {
   "interpreter": {
    "hash": "916dbcbb3f70747c44a77c7bcd40155683ae19c65e1c03b4aa3499c5328201f1"
   }
  }
 },
 "nbformat": 4,
 "nbformat_minor": 2
}
