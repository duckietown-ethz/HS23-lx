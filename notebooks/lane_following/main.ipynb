{
 "cells": [
  {
   "cell_type": "markdown",
   "metadata": {},
   "source": [
    "# Lane Following"
   ]
  },
  {
   "cell_type": "markdown",
   "metadata": {},
   "source": [
    "In this notebook we will build a Lane Follower agent."
   ]
  },
  {
   "cell_type": "code",
   "execution_count": 1,
   "metadata": {
    "pycharm": {
     "name": "#%%\n"
    }
   },
   "outputs": [],
   "source": [
    "%load_ext autoreload\n",
    "%autoreload 2\n",
    "\n",
    "import os\n",
    "\n",
    "import numpy as np\n",
    "import cv2\n",
    "import matplotlib.pyplot as plt\n",
    "\n",
    "VEHICLE_NAME: str = \"kizzy\""
   ]
  },
  {
   "cell_type": "code",
   "execution_count": 2,
   "metadata": {},
   "outputs": [],
   "source": [
    "## Real Duckiebot - KIZZY\n",
    "\n",
    "import os\n",
    "from duckietown.types import CameraParameters\n",
    "\n",
    "if VEHICLE_NAME == \"kizzy\":\n",
    "    CAMERA_PARAMETERS: CameraParameters = {\n",
    "        \"width\": 640,\n",
    "        \"height\": 480,\n",
    "        \"K\": np.reshape(\n",
    "            [\n",
    "                275.73276038498926,\n",
    "                0.0,\n",
    "                319.6766909474663,\n",
    "                0.0,\n",
    "                280.1548497747509,\n",
    "                273.2555774703665,\n",
    "                0.0,\n",
    "                0.0,\n",
    "                1.0,\n",
    "            ],\n",
    "            (3, 3),\n",
    "        ),\n",
    "        \"D\": [\n",
    "            -0.186769174617111,\n",
    "            0.021237828783060932,\n",
    "            -0.010063453683894804,\n",
    "            0.0020176247114933833,\n",
    "            0.0,\n",
    "        ],\n",
    "        \"P\": np.reshape(\n",
    "            [\n",
    "                181.33279418945312,\n",
    "                0.0,\n",
    "                321.308646777532,\n",
    "                0.0,\n",
    "                0.0,\n",
    "                230.59254455566406,\n",
    "                277.2216409396642,\n",
    "                0.0,\n",
    "                0.0,\n",
    "                0.0,\n",
    "                1.0,\n",
    "                0.0,\n",
    "            ],\n",
    "            (3, 4),\n",
    "        ),\n",
    "        \"H\": np.reshape(\n",
    "            [\n",
    "                # 8.56148231e-03,\n",
    "                # 2.22480148e-01,\n",
    "                # 4.24318934e-01,\n",
    "                # -5.67022044e-01,\n",
    "                # -1.13258040e-03,\n",
    "                # 6.81113839e-04,\n",
    "                # 5.80917161e-02,\n",
    "                # 4.35079347e00,\n",
    "                # 1.0,\n",
    "\n",
    "                0.0219712,\n",
    "                0.09045404,\n",
    "                0.38400369,\n",
    "                -0.44468068,\n",
    "                0.01655425,\n",
    "                0.01499358,\n",
    "                0.20360817,\n",
    "                2.9932356,\n",
    "                1.        \n",
    "            ],\n",
    "            (3, 3),\n",
    "        ),\n",
    "    }\n",
    "\n",
    "    GAIN: float = 0.85\n",
    "    TRIM: float = 0.08\n",
    "    V_MAX: float = 1.0\n",
    "    OMEGA_MAX: float = 8.0"
   ]
  },
  {
   "cell_type": "code",
   "execution_count": 3,
   "metadata": {},
   "outputs": [
    {
     "name": "stdout",
     "output_type": "stream",
     "text": [
      "Using ROS...\n"
     ]
    }
   ],
   "source": [
    "# Sensor - Camera\n",
    "\n",
    "from duckietown.components.duckiebot import CameraDriverComponent\n",
    "\n",
    "camera: CameraDriverComponent = CameraDriverComponent(vehicle_name=VEHICLE_NAME, compression=\"none\", frequency=15)"
   ]
  },
  {
   "cell_type": "code",
   "execution_count": 4,
   "metadata": {},
   "outputs": [],
   "source": [
    "# Image Cropping\n",
    "\n",
    "from duckietown.components.lane_following import ImageCropComponent\n",
    "\n",
    "image_crop: ImageCropComponent = ImageCropComponent(parameters=CAMERA_PARAMETERS)"
   ]
  },
  {
   "cell_type": "code",
   "execution_count": 5,
   "metadata": {},
   "outputs": [],
   "source": [
    "# Line Detector\n",
    "\n",
    "from duckietown.components.lane_following import LineDetectorComponent\n",
    "\n",
    "line_detector: LineDetectorComponent = LineDetectorComponent()"
   ]
  },
  {
   "cell_type": "code",
   "execution_count": 6,
   "metadata": {},
   "outputs": [],
   "source": [
    "# Lane Filter\n",
    "\n",
    "from duckietown.components.lane_following import LaneFilterComponent\n",
    "\n",
    "lane_filter: LaneFilterComponent = LaneFilterComponent(camera_parameters=CAMERA_PARAMETERS)"
   ]
  },
  {
   "cell_type": "code",
   "execution_count": 7,
   "metadata": {},
   "outputs": [],
   "source": [
    "# Lane Controller\n",
    "\n",
    "from duckietown.components.lane_following import LaneControllerComponent\n",
    "\n",
    "lane_controller: LaneControllerComponent = LaneControllerComponent()"
   ]
  },
  {
   "cell_type": "code",
   "execution_count": 8,
   "metadata": {},
   "outputs": [],
   "source": [
    "# Inverse Kinematics\n",
    "\n",
    "from duckietown.components.lane_following import InverseKinematicsComponent\n",
    "\n",
    "inverse_kinematics: InverseKinematicsComponent = InverseKinematicsComponent(v_max=V_MAX, omega_max=OMEGA_MAX)"
   ]
  },
  {
   "cell_type": "code",
   "execution_count": 9,
   "metadata": {},
   "outputs": [],
   "source": [
    "# PWM Mapper\n",
    "\n",
    "from duckietown.components.lane_following import PWMComponent\n",
    "\n",
    "pwm: PWMComponent = PWMComponent(gain=GAIN, trim=TRIM)"
   ]
  },
  {
   "cell_type": "code",
   "execution_count": 10,
   "metadata": {},
   "outputs": [
    {
     "name": "stdout",
     "output_type": "stream",
     "text": [
      "Using ROS...\n"
     ]
    }
   ],
   "source": [
    "# Wheels Driver\n",
    "\n",
    "from duckietown.components.duckiebot import MotorsDriverComponent\n",
    "\n",
    "motors: MotorsDriverComponent = MotorsDriverComponent(vehicle_name=VEHICLE_NAME)"
   ]
  },
  {
   "cell_type": "code",
   "execution_count": 11,
   "metadata": {},
   "outputs": [],
   "source": [
    "# StopLine Detector\n",
    "\n",
    "from duckietown.components.intersections import StopLineDetectorComponent\n",
    "\n",
    "stopline_detector: StopLineDetectorComponent = StopLineDetectorComponent()"
   ]
  },
  {
   "cell_type": "code",
   "execution_count": 12,
   "metadata": {},
   "outputs": [],
   "source": [
    "# Stopline LED Component\n",
    "\n",
    "from duckietown.components.intersections import StopLineLEDComponent\n",
    "\n",
    "stopline_led: StopLineLEDComponent = StopLineLEDComponent()"
   ]
  },
  {
   "cell_type": "code",
   "execution_count": 13,
   "metadata": {},
   "outputs": [
    {
     "name": "stdout",
     "output_type": "stream",
     "text": [
      "Using ROS...\n"
     ]
    }
   ],
   "source": [
    "# ToF Driver Component\n",
    "\n",
    "from duckietown.components.duckiebot import TimeOfFlightDriverComponent\n",
    "\n",
    "tof: TimeOfFlightDriverComponent = TimeOfFlightDriverComponent(vehicle_name=VEHICLE_NAME, frequency=5)"
   ]
  },
  {
   "cell_type": "code",
   "execution_count": 14,
   "metadata": {},
   "outputs": [],
   "source": [
    "# Obstacle Avoidance\n",
    "\n",
    "from duckietown.components.obstacles import ObstacleAvoidanceComponent\n",
    "\n",
    "obstacle_avoidance: ObstacleAvoidanceComponent = ObstacleAvoidanceComponent()"
   ]
  },
  {
   "cell_type": "code",
   "execution_count": 15,
   "metadata": {},
   "outputs": [
    {
     "name": "stdout",
     "output_type": "stream",
     "text": [
      "Using ROS...\n"
     ]
    }
   ],
   "source": [
    "# LED drivers\n",
    "\n",
    "from duckietown.components.duckiebot import LEDsDriverComponent\n",
    "\n",
    "leds: LEDsDriverComponent = LEDsDriverComponent(VEHICLE_NAME)"
   ]
  },
  {
   "cell_type": "code",
   "execution_count": 16,
   "metadata": {},
   "outputs": [],
   "source": [
    "# Driving Logic Component\n",
    "\n",
    "from duckietown.components.logic import DrivingLogicComponent\n",
    "\n",
    "logic: DrivingLogicComponent = DrivingLogicComponent(stop_data=(0.0, 0.0))"
   ]
  },
  {
   "cell_type": "code",
   "execution_count": 17,
   "metadata": {},
   "outputs": [
    {
     "data": {
      "image/png": "[encoded data removed]",
      "text/plain": [
       "<IPython.core.display.Image object>"
      ]
     },
     "metadata": {},
     "output_type": "display_data"
    },
    {
     "data": {
      "image/png": "",
      "text/plain": [
       "<IPython.core.display.Image object>"
      ]
     },
     "metadata": {},
     "output_type": "display_data"
    },
    {
     "data": {
      "image/png": "[encoded data removed]",
      "text/plain": [
       "<IPython.core.display.Image object>"
      ]
     },
     "metadata": {},
     "output_type": "display_data"
    },
    {
     "data": {
      "text/markdown": [],
      "text/plain": [
       "<IPython.core.display.Markdown object>"
      ]
     },
     "metadata": {},
     "output_type": "display_data"
    },
    {
     "data": {
      "text/markdown": [
       "None"
      ],
      "text/plain": [
       "<IPython.core.display.Markdown object>"
      ]
     },
     "metadata": {},
     "output_type": "display_data"
    },
    {
     "data": {
      "text/markdown": [
       "(0.13737766271928492, 0.26733978157431826)"
      ],
      "text/plain": [
       "<IPython.core.display.Markdown object>"
      ]
     },
     "metadata": {},
     "output_type": "display_data"
    }
   ],
   "source": [
    "# Rendering components\n",
    "\n",
    "from duckietown.components.rendering import ImageRendererComponent, TextRendererComponent\n",
    "\n",
    "# define components\n",
    "detections: ImageRendererComponent = ImageRendererComponent(frequency=8)#, image_opts={\"width\": 1200})\n",
    "segments: ImageRendererComponent = ImageRendererComponent(frequency=8)\n",
    "belief: ImageRendererComponent = ImageRendererComponent(frequency=12)\n",
    "pwm_signals: TextRendererComponent = TextRendererComponent()\n",
    "text_viewer1: TextRendererComponent = TextRendererComponent()\n",
    "text_viewer2: TextRendererComponent = TextRendererComponent()"
   ]
  },
  {
   "cell_type": "code",
   "execution_count": 18,
   "metadata": {},
   "outputs": [],
   "source": [
    "# Clear components\n",
    "\n",
    "image_crop.in_bgr.detach_all()\n",
    "\n",
    "line_detector.in_bgr.detach_all()\n",
    "\n",
    "lane_filter.in_lines.detach_all()\n",
    "lane_filter.in_command_time.detach_all()\n",
    "lane_filter.in_v_omega.detach_all()\n",
    "\n",
    "lane_controller.in_d_phi.detach_all()\n",
    "\n",
    "inverse_kinematics.in_v_omega.detach_all()\n",
    "\n",
    "obstacle_avoidance.in_range.detach_all()\n",
    "\n",
    "stopline_detector.in_segments.detach_all()\n",
    "stopline_detector.in_d_phi.detach_all()\n",
    "\n",
    "logic.in_data.detach_all()\n",
    "logic.in_obstacle.detach_all()\n",
    "logic.in_stopline.detach_all()\n",
    "\n",
    "pwm.in_wl_wr.detach_all()\n",
    "\n",
    "motors.in_pwml_pwmr.detach_all()\n",
    "\n",
    "stopline_led.in_break.detach_all()\n",
    "\n",
    "leds.in_pattern.detach_all()\n",
    "\n",
    "# Rendering components\n",
    "\n",
    "detections.in_image.detach_all()\n",
    "segments.in_image.detach_all()\n",
    "belief.in_image.detach_all()\n",
    "pwm_signals.in_data.detach_all()\n",
    "\n",
    "text_viewer1.in_data.detach_all()\n",
    "text_viewer2.in_data.detach_all()"
   ]
  },
  {
   "cell_type": "code",
   "execution_count": 19,
   "metadata": {},
   "outputs": [],
   "source": [
    "# Connect components\n",
    "\n",
    "image_crop.in_bgr.wants(camera.out_bgr)\n",
    "\n",
    "line_detector.in_bgr.wants(image_crop.out_bgr)\n",
    "\n",
    "lane_filter.in_lines.wants(line_detector.out_lines)\n",
    "# lane_filter.in_command_time.wants(motors.out_command_time)\n",
    "# lane_filter.in_v_omega.wants(lane_controller.out_v_omega)\n",
    "\n",
    "lane_controller.in_d_phi.wants(lane_filter.out_d_phi)\n",
    "\n",
    "inverse_kinematics.in_v_omega.wants(lane_controller.out_v_omega)\n",
    "\n",
    "# obstacle_avoidance.in_range.wants(tof.out_range)\n",
    "\n",
    "# stopline_detector.in_segments.wants(lane_filter.out_segments)\n",
    "# stopline_detector.in_d_phi.wants(lane_filter.out_d_phi)\n",
    "\n",
    "logic.in_data.wants(inverse_kinematics.out_wl_wr)\n",
    "# logic.in_obstacle.wants(obstacle_avoidance.out_obstacle)\n",
    "# logic.in_stopline.wants(stopline_detector.out_stopline)\n",
    "\n",
    "pwm.in_wl_wr.wants(logic.out_data)\n",
    "\n",
    "motors.in_pwml_pwmr.wants(pwm.out_pwml_pwmr)\n",
    "\n",
    "stopline_led.in_break.wants(logic.out_stopped)\n",
    "\n",
    "leds.in_pattern.wants(stopline_led.out_pattern)\n",
    "\n",
    "# Connect rendering components\n",
    "\n",
    "# detections.in_image.wants(camera.out_bgr)\n",
    "detections.in_image.wants(line_detector.out_lines_image)\n",
    "# segments.in_image.wants(lane_filter.out_segments_image)\n",
    "belief.in_image.wants(lane_filter.out_belief_image)\n",
    "# pwm_signals.in_data.wants(pwm.out_pwml_pwmr)\n",
    "\n",
    "text_viewer1.in_data.wants(tof.out_range)\n",
    "# text_viewer1.in_data.wants(obstacle_avoidance.out_obstacle)\n",
    "# text_viewer1.in_data.wants(stopline_detector.out_stopline)\n",
    "# text_viewer2.in_data.wants(stopline_led.out_pattern)\n",
    "\n",
    "text_viewer2.in_data.wants(pwm.out_pwml_pwmr)"
   ]
  },
  {
   "cell_type": "code",
   "execution_count": 20,
   "metadata": {},
   "outputs": [
    {
     "data": {
      "application/vnd.jupyter.widget-view+json": {
       "model_id": "9f1772e675394599844693e7fbaf4455",
       "version_major": 2,
       "version_minor": 0
      },
      "text/plain": [
       "Button(description='Toggle Drive', style=ButtonStyle())"
      ]
     },
     "metadata": {},
     "output_type": "display_data"
    }
   ],
   "source": [
    "# Drive button\n",
    "\n",
    "from IPython.display import display\n",
    "import ipywidgets as widgets\n",
    "drive: bool = False\n",
    "\n",
    "def clicked(arg):\n",
    "    global drive\n",
    "    print(f\"Drive: {drive}\")\n",
    "    if drive:\n",
    "        motors.in_pwml_pwmr.wants(pwm.out_pwml_pwmr)\n",
    "    else:\n",
    "        motors.in_pwml_pwmr.detach(pwm.out_pwml_pwmr)\n",
    "    drive = not drive\n",
    "\n",
    "button_download = widgets.Button(description = 'Toggle Drive')   \n",
    "button_download.on_click(clicked)\n",
    "display(button_download)"
   ]
  },
  {
   "cell_type": "code",
   "execution_count": 33,
   "metadata": {},
   "outputs": [
    {
     "name": "stdout",
     "output_type": "stream",
     "text": [
      "[system]: System booting...\n",
      "[system]: Component CameraDriverComponent@139804815573392 started!\n",
      "[system]: Component ImageCropComponent@139804815544528 started!\n",
      "[system]: Component LineDetectorComponent@139804815573104 started!\n",
      "[system]: Component LaneFilterComponent@139804019617168 started!\n",
      "[system]: Component LaneControllerComponent@139804025494160 started!\n",
      "[system]: Component InverseKinematicsComponent@139803707580624 started!\n",
      "[system]: Component PWMComponent@139803707580768 started!\n",
      "[system]: Component DrivingLogicComponent@139804270499632 started!\n",
      "[system]: Component TimeOfFlightDriverComponent@139803958167152 started!\n",
      "[system]: Component ObstacleAvoidanceComponent@139803707582832 started!\n",
      "[system]: Component StopLineLEDComponent@139803707506064 started!\n",
      "[system]: Component LEDsDriverComponent@139803958169216 started!\n",
      "[system]: Component MotorsDriverComponent@139804815576848 started!\n",
      "[system]: Component ImageRendererComponent@139803958259968 started!\n",
      "[system]: Component ImageRendererComponent@139803958260064 started!\n",
      "[system]: Component ImageRendererComponent@139803958261120 started!\n",
      "[system]: Component TextRendererComponent@139803958262368 started!\n",
      "[system]: Component TextRendererComponent@139803958262224 started!\n",
      "[system]: System running...\n"
     ]
    },
    {
     "name": "stderr",
     "output_type": "stream",
     "text": [
      "WARNING:PIDLaneController:Heading error too large: -0.54343206255278 > 0.5235987755982988, capped.\n",
      "WARNING:PIDLaneController:Heading error too large: -0.5672320068981572 > 0.5235987755982988, capped.\n",
      "WARNING:PIDLaneController:Heading error too large: -0.5672320068981572 > 0.5235987755982988, capped.\n",
      "WARNING:PIDLaneController:Heading error too large: -0.5672320068981572 > 0.5235987755982988, capped.\n",
      "WARNING:PIDLaneController:Heading error too large: -0.5672320068981572 > 0.5235987755982988, capped.\n",
      "WARNING:PIDLaneController:Heading error too large: -0.5672320068981572 > 0.5235987755982988, capped.\n",
      "WARNING:PIDLaneController:Heading error too large: -0.5672320068981572 > 0.5235987755982988, capped.\n",
      "WARNING:PIDLaneController:Heading error too large: -0.5672320068981572 > 0.5235987755982988, capped.\n",
      "WARNING:PIDLaneController:Heading error too large: -0.5672320068981572 > 0.5235987755982988, capped.\n",
      "WARNING:PIDLaneController:Heading error too large: -0.5672320068981572 > 0.5235987755982988, capped.\n",
      "WARNING:PIDLaneController:Heading error too large: -0.5672320068981572 > 0.5235987755982988, capped.\n",
      "WARNING:PIDLaneController:Heading error too large: -0.5672320068981572 > 0.5235987755982988, capped.\n",
      "WARNING:PIDLaneController:Heading error too large: -0.5672320068981572 > 0.5235987755982988, capped.\n",
      "WARNING:PIDLaneController:Heading error too large: -0.5672320068981572 > 0.5235987755982988, capped.\n",
      "WARNING:PIDLaneController:Heading error too large: -0.5672320068981572 > 0.5235987755982988, capped.\n",
      "WARNING:PIDLaneController:Heading error too large: -0.5672320068981572 > 0.5235987755982988, capped.\n",
      "WARNING:PIDLaneController:Heading error too large: -0.5672320068981572 > 0.5235987755982988, capped.\n",
      "WARNING:PIDLaneController:Heading error too large: -0.5672320068981572 > 0.5235987755982988, capped.\n",
      "WARNING:PIDLaneController:Heading error too large: -0.5672320068981572 > 0.5235987755982988, capped.\n",
      "WARNING:PIDLaneController:Heading error too large: -0.5874677083705552 > 0.5235987755982988, capped.\n",
      "WARNING:PIDLaneController:Heading error too large: -0.5410520681182424 > 0.5235987755982988, capped.\n",
      "WARNING:PIDLaneController:Heading error too large: -0.6755627880564258 > 0.5235987755982988, capped.\n",
      "WARNING:PIDLaneController:Heading error too large: -0.7014881032054133 > 0.5235987755982988, capped.\n",
      "WARNING:PIDLaneController:Heading error too large: -0.7417649320975902 > 0.5235987755982988, capped.\n",
      "WARNING:PIDLaneController:Heading error too large: -0.7417649320975902 > 0.5235987755982988, capped.\n",
      "WARNING:PIDLaneController:Heading error too large: -0.7417649320975902 > 0.5235987755982988, capped.\n",
      "WARNING:PIDLaneController:Heading error too large: -0.7417649320975902 > 0.5235987755982988, capped.\n",
      "WARNING:PIDLaneController:Heading error too large: -0.5699590838543983 > 0.5235987755982988, capped.\n",
      "WARNING:PIDLaneController:Heading error too large: -0.5468698322915565 > 0.5235987755982988, capped.\n",
      "WARNING:PIDLaneController:Heading error too large: -0.637424596380538 > 0.5235987755982988, capped.\n",
      "WARNING:PIDLaneController:Heading error too large: -0.6351991556537058 > 0.5235987755982988, capped.\n",
      "WARNING:PIDLaneController:Heading error too large: -0.659258458366949 > 0.5235987755982988, capped.\n",
      "WARNING:PIDLaneController:Heading error too large: -0.6544984694978737 > 0.5235987755982988, capped.\n",
      "WARNING:PIDLaneController:Heading error too large: -0.6544984694978737 > 0.5235987755982988, capped.\n",
      "WARNING:PIDLaneController:Heading error too large: -0.5551489582305035 > 0.5235987755982988, capped.\n",
      "WARNING:PIDLaneController:Heading error too large: -0.8090030262317979 > 0.5235987755982988, capped.\n",
      "WARNING:PIDLaneController:Heading error too large: -0.8452179159859636 > 0.5235987755982988, capped.\n",
      "WARNING:PIDLaneController:Heading error too large: -0.8349568952442009 > 0.5235987755982988, capped.\n",
      "WARNING:PIDLaneController:Heading error too large: -0.8208738775412462 > 0.5235987755982988, capped.\n",
      "WARNING:PIDLaneController:Heading error too large: -0.8275813477356799 > 0.5235987755982988, capped.\n",
      "WARNING:PIDLaneController:Heading error too large: -0.8274423240581615 > 0.5235987755982988, capped.\n",
      "WARNING:PIDLaneController:Heading error too large: -0.6544984694978737 > 0.5235987755982988, capped.\n",
      "WARNING:PIDLaneController:Heading error too large: -0.5257446722196031 > 0.5235987755982988, capped.\n",
      "WARNING:PIDLaneController:Heading error too large: -0.5730016903758243 > 0.5235987755982988, capped.\n",
      "WARNING:PIDLaneController:Heading error too large: -0.5625814430605549 > 0.5235987755982988, capped.\n",
      "WARNING:PIDLaneController:Heading error too large: -0.5546602866155929 > 0.5235987755982988, capped.\n",
      "WARNING:PIDLaneController:Heading error too large: -0.5358990206200543 > 0.5235987755982988, capped.\n",
      "WARNING:PIDLaneController:Heading error too large: -0.8147097651678127 > 0.5235987755982988, capped.\n",
      "WARNING:PIDLaneController:Heading error too large: -0.5672320068981572 > 0.5235987755982988, capped.\n",
      "WARNING:PIDLaneController:Heading error too large: -0.5672320068981572 > 0.5235987755982988, capped.\n",
      "WARNING:PIDLaneController:Heading error too large: -0.5672320068981572 > 0.5235987755982988, capped.\n",
      "WARNING:PIDLaneController:Heading error too large: -0.5672320068981572 > 0.5235987755982988, capped.\n",
      "WARNING:PIDLaneController:Heading error too large: -0.7417649320975902 > 0.5235987755982988, capped.\n",
      "WARNING:PIDLaneController:Heading error too large: -0.5614142427248426 > 0.5235987755982988, capped.\n",
      "WARNING:PIDLaneController:Heading error too large: -0.6708609312353205 > 0.5235987755982988, capped.\n",
      "WARNING:PIDLaneController:Heading error too large: -0.5965242460924676 > 0.5235987755982988, capped.\n",
      "WARNING:PIDLaneController:Heading error too large: -0.575958653158129 > 0.5235987755982988, capped.\n",
      "WARNING:PIDLaneController:Heading error too large: -0.6544984694978737 > 0.5235987755982988, capped.\n",
      "WARNING:PIDLaneController:Heading error too large: -0.6544984694978737 > 0.5235987755982988, capped.\n",
      "WARNING:PIDLaneController:Heading error too large: -0.6544984694978737 > 0.5235987755982988, capped.\n",
      "WARNING:PIDLaneController:Heading error too large: -0.6544984694978737 > 0.5235987755982988, capped.\n",
      "WARNING:PIDLaneController:Heading error too large: -0.6544984694978737 > 0.5235987755982988, capped.\n",
      "WARNING:PIDLaneController:Heading error too large: -0.6855265450888837 > 0.5235987755982988, capped.\n",
      "WARNING:PIDLaneController:Heading error too large: -0.8414242651256686 > 0.5235987755982988, capped.\n",
      "WARNING:PIDLaneController:Heading error too large: -0.5710262009242317 > 0.5235987755982988, capped.\n",
      "WARNING:PIDLaneController:Heading error too large: -0.7417649320975902 > 0.5235987755982988, capped.\n",
      "WARNING:PIDLaneController:Heading error too large: -0.5263258525545401 > 0.5235987755982988, capped.\n",
      "WARNING:PIDLaneController:Heading error too large: -0.5323254218582706 > 0.5235987755982988, capped.\n",
      "WARNING:PIDLaneController:Heading error too large: -0.5457981388912093 > 0.5235987755982988, capped.\n",
      "WARNING:PIDLaneController:Heading error too large: -0.5389625894362772 > 0.5235987755982988, capped.\n",
      "WARNING:PIDLaneController:Heading error too large: -0.5672320068981572 > 0.5235987755982988, capped.\n",
      "WARNING:PIDLaneController:Heading error too large: -0.5672320068981572 > 0.5235987755982988, capped.\n",
      "WARNING:PIDLaneController:Heading error too large: -0.5364320789217867 > 0.5235987755982988, capped.\n",
      "WARNING:PIDLaneController:Heading error too large: -0.5611080446104578 > 0.5235987755982988, capped.\n",
      "WARNING:PIDLaneController:Heading error too large: -0.5672320068981572 > 0.5235987755982988, capped.\n",
      "WARNING:PIDLaneController:Heading error too large: -0.5672320068981572 > 0.5235987755982988, capped.\n",
      "WARNING:PIDLaneController:Heading error too large: -0.5672320068981572 > 0.5235987755982988, capped.\n",
      "WARNING:PIDLaneController:Heading error too large: -0.5873704213442454 > 0.5235987755982988, capped.\n",
      "WARNING:PIDLaneController:Heading error too large: -0.5978319353422138 > 0.5235987755982988, capped.\n",
      "WARNING:PIDLaneController:Heading error too large: -0.528633379209821 > 0.5235987755982988, capped.\n",
      "WARNING:PIDLaneController:Heading error too large: -0.8290313946973066 > 0.5235987755982988, capped.\n",
      "WARNING:PIDLaneController:Heading error too large: -0.5786145889763811 > 0.5235987755982988, capped.\n",
      "WARNING:PIDLaneController:Heading error too large: -0.674445089520666 > 0.5235987755982988, capped.\n",
      "WARNING:PIDLaneController:Heading error too large: -0.7670477390190034 > 0.5235987755982988, capped.\n",
      "WARNING:PIDLaneController:Heading error too large: -0.7487462491055673 > 0.5235987755982988, capped.\n",
      "WARNING:PIDLaneController:Heading error too large: -0.6544984694978737 > 0.5235987755982988, capped.\n",
      "WARNING:PIDLaneController:Heading error too large: -0.6708216927179644 > 0.5235987755982988, capped.\n",
      "WARNING:PIDLaneController:Heading error too large: -0.6469163014359312 > 0.5235987755982988, capped.\n",
      "WARNING:PIDLaneController:Heading error too large: -0.6541030021447027 > 0.5235987755982988, capped.\n",
      "WARNING:PIDLaneController:Heading error too large: -0.6304644273392633 > 0.5235987755982988, capped.\n",
      "WARNING:PIDLaneController:Heading error too large: -0.75227896373611 > 0.5235987755982988, capped.\n",
      "WARNING:PIDLaneController:Heading error too large: -0.5589336622951165 > 0.5235987755982988, capped.\n",
      "WARNING:PIDLaneController:Heading error too large: -0.5256323767300175 > 0.5235987755982988, capped.\n",
      "WARNING:PIDLaneController:Heading error too large: -0.6011119276721647 > 0.5235987755982988, capped.\n",
      "WARNING:PIDLaneController:Heading error too large: -0.5883973802898793 > 0.5235987755982988, capped.\n",
      "WARNING:PIDLaneController:Heading error too large: -0.6081152446286967 > 0.5235987755982988, capped.\n",
      "WARNING:PIDLaneController:Heading error too large: -0.6273751095006647 > 0.5235987755982988, capped.\n",
      "WARNING:PIDLaneController:Heading error too large: -0.6148318955889117 > 0.5235987755982988, capped.\n",
      "WARNING:PIDLaneController:Lateral error too large: 0.2534545454545455 > 0.25, capped.\n",
      "WARNING:PIDLaneController:Heading error too large: -0.6814717397559679 > 0.5235987755982988, capped.\n",
      "WARNING:PIDLaneController:Heading error too large: -0.6719517620178169 > 0.5235987755982988, capped.\n",
      "WARNING:PIDLaneController:Heading error too large: -0.6370451769779304 > 0.5235987755982988, capped.\n",
      "WARNING:PIDLaneController:Heading error too large: -0.6486807053245592 > 0.5235987755982988, capped.\n",
      "WARNING:PIDLaneController:Heading error too large: -0.6514892811323663 > 0.5235987755982988, capped.\n",
      "WARNING:PIDLaneController:Heading error too large: -0.5672320068981572 > 0.5235987755982988, capped.\n",
      "WARNING:PIDLaneController:Heading error too large: -0.5672320068981572 > 0.5235987755982988, capped.\n",
      "WARNING:PIDLaneController:Heading error too large: -0.5672320068981572 > 0.5235987755982988, capped.\n",
      "WARNING:PIDLaneController:Heading error too large: -0.5672320068981572 > 0.5235987755982988, capped.\n",
      "WARNING:PIDLaneController:Heading error too large: -0.6393722826472561 > 0.5235987755982988, capped.\n",
      "WARNING:PIDLaneController:Heading error too large: -0.7692919370787088 > 0.5235987755982988, capped.\n",
      "WARNING:PIDLaneController:Heading error too large: -0.8008025911433113 > 0.5235987755982988, capped.\n",
      "WARNING:PIDLaneController:Heading error too large: -0.8001105231428971 > 0.5235987755982988, capped.\n",
      "WARNING:PIDLaneController:Heading error too large: -0.8242848236967838 > 0.5235987755982988, capped.\n",
      "WARNING:PIDLaneController:Heading error too large: -0.8278928689158576 > 0.5235987755982988, capped.\n",
      "WARNING:PIDLaneController:Heading error too large: -0.8284572168524493 > 0.5235987755982988, capped.\n",
      "WARNING:PIDLaneController:Heading error too large: -0.8260580910312174 > 0.5235987755982988, capped.\n",
      "WARNING:PIDLaneController:Heading error too large: -0.8275189776678488 > 0.5235987755982988, capped.\n",
      "WARNING:PIDLaneController:Heading error too large: -0.8290313946973066 > 0.5235987755982988, capped.\n",
      "WARNING:PIDLaneController:Heading error too large: -0.5346698939878153 > 0.5235987755982988, capped.\n",
      "WARNING:PIDLaneController:Heading error too large: -0.6918983820406092 > 0.5235987755982988, capped.\n",
      "WARNING:PIDLaneController:Heading error too large: -0.7011670560185916 > 0.5235987755982988, capped.\n",
      "WARNING:PIDLaneController:Heading error too large: -0.7292251764747569 > 0.5235987755982988, capped.\n",
      "WARNING:PIDLaneController:Heading error too large: -0.7324519103972251 > 0.5235987755982988, capped.\n",
      "WARNING:PIDLaneController:Heading error too large: -0.6488683751366014 > 0.5235987755982988, capped.\n",
      "WARNING:PIDLaneController:Heading error too large: -0.641072859867148 > 0.5235987755982988, capped.\n",
      "WARNING:PIDLaneController:Heading error too large: -0.6108652381980154 > 0.5235987755982988, capped.\n",
      "WARNING:PIDLaneController:Heading error too large: -0.6544984694978737 > 0.5235987755982988, capped.\n",
      "WARNING:PIDLaneController:Heading error too large: -0.6232142659243904 > 0.5235987755982988, capped.\n",
      "WARNING:PIDLaneController:Heading error too large: -0.6740581938736722 > 0.5235987755982988, capped.\n",
      "WARNING:PIDLaneController:Heading error too large: -0.591472690953634 > 0.5235987755982988, capped.\n",
      "WARNING:PIDLaneController:Heading error too large: -0.5986228207829472 > 0.5235987755982988, capped.\n",
      "WARNING:PIDLaneController:Heading error too large: -0.6370451769779303 > 0.5235987755982988, capped.\n",
      "WARNING:PIDLaneController:Heading error too large: -0.6544984694978737 > 0.5235987755982988, capped.\n",
      "WARNING:PIDLaneController:Heading error too large: -0.6544984694978737 > 0.5235987755982988, capped.\n",
      "WARNING:PIDLaneController:Heading error too large: -0.6279008826601766 > 0.5235987755982988, capped.\n",
      "WARNING:PIDLaneController:Heading error too large: -0.6443778512970312 > 0.5235987755982988, capped.\n",
      "WARNING:PIDLaneController:Heading error too large: -0.6482746094945555 > 0.5235987755982988, capped.\n",
      "WARNING:PIDLaneController:Heading error too large: -0.634455815462846 > 0.5235987755982988, capped.\n",
      "WARNING:PIDLaneController:Heading error too large: -0.5513653773345724 > 0.5235987755982988, capped.\n",
      "WARNING:PIDLaneController:Heading error too large: -0.5513653773345724 > 0.5235987755982988, capped.\n",
      "WARNING:PIDLaneController:Heading error too large: -0.5672320068981572 > 0.5235987755982988, capped.\n",
      "WARNING:PIDLaneController:Heading error too large: -0.5946296172492308 > 0.5235987755982988, capped.\n",
      "WARNING:PIDLaneController:Heading error too large: -0.5473713636858081 > 0.5235987755982988, capped.\n",
      "WARNING:PIDLaneController:Heading error too large: -0.6310036526441037 > 0.5235987755982988, capped.\n",
      "WARNING:PIDLaneController:Heading error too large: -0.7417649320975902 > 0.5235987755982988, capped.\n",
      "WARNING:PIDLaneController:Heading error too large: -0.549778714378214 > 0.5235987755982988, capped.\n",
      "WARNING:PIDLaneController:Heading error too large: -0.6304249625738138 > 0.5235987755982988, capped.\n",
      "WARNING:PIDLaneController:Heading error too large: -0.5794087226097455 > 0.5235987755982988, capped.\n",
      "WARNING:PIDLaneController:Heading error too large: -0.6690428799311597 > 0.5235987755982988, capped.\n",
      "WARNING:PIDLaneController:Heading error too large: -0.7417649320975902 > 0.5235987755982988, capped.\n",
      "WARNING:PIDLaneController:Heading error too large: -0.7417649320975902 > 0.5235987755982988, capped.\n",
      "WARNING:PIDLaneController:Heading error too large: -0.7417649320975902 > 0.5235987755982988, capped.\n",
      "WARNING:PIDLaneController:Heading error too large: -0.7417649320975902 > 0.5235987755982988, capped.\n",
      "WARNING:PIDLaneController:Heading error too large: -0.7417649320975902 > 0.5235987755982988, capped.\n",
      "WARNING:PIDLaneController:Heading error too large: -0.7417649320975902 > 0.5235987755982988, capped.\n",
      "WARNING:PIDLaneController:Heading error too large: -0.7417649320975902 > 0.5235987755982988, capped.\n",
      "WARNING:PIDLaneController:Heading error too large: -0.7417649320975902 > 0.5235987755982988, capped.\n",
      "WARNING:PIDLaneController:Heading error too large: -0.7417649320975902 > 0.5235987755982988, capped.\n",
      "WARNING:PIDLaneController:Heading error too large: -0.5546151689319332 > 0.5235987755982988, capped.\n"
     ]
    },
    {
     "name": "stdout",
     "output_type": "stream",
     "text": [
      "[system]: Stopping component CameraDriverComponent@139804815573392...\n",
      "[system]: Stopping component ImageCropComponent@139804815544528...\n",
      "[system]: Stopping component LineDetectorComponent@139804815573104...\n",
      "[system]: Stopping component LaneFilterComponent@139804019617168...\n",
      "[system]: Stopping component LaneControllerComponent@139804025494160...\n",
      "[system]: Stopping component InverseKinematicsComponent@139803707580624...\n",
      "[system]: Stopping component PWMComponent@139803707580768...\n",
      "[system]: Stopping component DrivingLogicComponent@139804270499632...\n",
      "[system]: Stopping component TimeOfFlightDriverComponent@139803958167152...\n",
      "[system]: Stopping component ObstacleAvoidanceComponent@139803707582832...\n",
      "[system]: Stopping component StopLineLEDComponent@139803707506064...\n",
      "[system]: Stopping component LEDsDriverComponent@139803958169216...\n",
      "[system]: Stopping component MotorsDriverComponent@139804815576848...\n",
      "[system]: Stopping component ImageRendererComponent@139803958259968...\n",
      "[system]: Stopping component ImageRendererComponent@139803958260064...\n",
      "[system]: Stopping component ImageRendererComponent@139803958261120...\n",
      "[system]: Stopping component TextRendererComponent@139803958262368...\n",
      "[system]: Stopping component TextRendererComponent@139803958262224...\n",
      "[system]: Waiting for component CameraDriverComponent@139804815573392...\n",
      "[system]: Component CameraDriverComponent@139804815573392 finished\n",
      "[system]: Waiting for component ImageCropComponent@139804815544528...\n",
      "[system]: Component ImageCropComponent@139804815544528 finished\n",
      "[system]: Waiting for component LineDetectorComponent@139804815573104...\n",
      "[system]: Component LineDetectorComponent@139804815573104 finished\n",
      "[system]: Waiting for component LaneFilterComponent@139804019617168...\n",
      "[system]: Component LaneFilterComponent@139804019617168 finished\n",
      "[system]: Waiting for component LaneControllerComponent@139804025494160...\n",
      "[system]: Component LaneControllerComponent@139804025494160 finished\n",
      "[system]: Waiting for component InverseKinematicsComponent@139803707580624...\n",
      "[system]: Component InverseKinematicsComponent@139803707580624 finished\n",
      "[system]: Waiting for component PWMComponent@139803707580768...\n",
      "[system]: Component PWMComponent@139803707580768 finished\n",
      "[system]: Waiting for component DrivingLogicComponent@139804270499632...\n",
      "[system]: Component DrivingLogicComponent@139804270499632 finished\n",
      "[system]: Waiting for component TimeOfFlightDriverComponent@139803958167152...\n",
      "[system]: Component TimeOfFlightDriverComponent@139803958167152 finished\n",
      "[system]: Waiting for component ObstacleAvoidanceComponent@139803707582832...\n",
      "[system]: Component ObstacleAvoidanceComponent@139803707582832 finished\n",
      "[system]: Waiting for component StopLineLEDComponent@139803707506064...\n",
      "[system]: Component StopLineLEDComponent@139803707506064 finished\n",
      "[system]: Waiting for component LEDsDriverComponent@139803958169216...\n",
      "[system]: Component LEDsDriverComponent@139803958169216 finished\n",
      "[system]: Waiting for component MotorsDriverComponent@139804815576848...\n",
      "[system]: Component MotorsDriverComponent@139804815576848 finished\n",
      "[system]: Waiting for component ImageRendererComponent@139803958259968...\n",
      "[system]: Component ImageRendererComponent@139803958259968 finished\n",
      "[system]: Waiting for component ImageRendererComponent@139803958260064...\n",
      "[system]: Component ImageRendererComponent@139803958260064 finished\n",
      "[system]: Waiting for component ImageRendererComponent@139803958261120...\n",
      "[system]: Component ImageRendererComponent@139803958261120 finished\n",
      "[system]: Waiting for component TextRendererComponent@139803958262368...\n",
      "[system]: Component TextRendererComponent@139803958262368 finished\n",
      "[system]: Waiting for component TextRendererComponent@139803958262224...\n",
      "[system]: Component TextRendererComponent@139803958262224 finished\n"
     ]
    }
   ],
   "source": [
    "# Lane Following\n",
    "\n",
    "import time\n",
    "from typing import List\n",
    "\n",
    "from duckietown.components.base import Component\n",
    "from duckietown.system import System\n",
    "\n",
    "# stopline_detector._stop_distance = 0.25\n",
    "# stopline_detector._min_segs = 6\n",
    "# stopline_detector._max_y = 0.10\n",
    "\n",
    "pwm._pwm.gain = 0.85\n",
    "pwm._pwm.trim = 0.08\n",
    "\n",
    "# list of components to run\n",
    "components: List[Component] = [\n",
    "    camera,\n",
    "    image_crop,\n",
    "    line_detector,\n",
    "    lane_filter,\n",
    "    lane_controller,\n",
    "    inverse_kinematics,\n",
    "    pwm,\n",
    "    logic,\n",
    "    tof,\n",
    "    obstacle_avoidance,\n",
    "    # stopline_detector,\n",
    "    stopline_led,\n",
    "    leds,\n",
    "    motors,\n",
    "    # -- rendering\n",
    "    detections,\n",
    "    segments,\n",
    "    belief,\n",
    "    # pwm_signals,\n",
    "    text_viewer1,\n",
    "    text_viewer2,\n",
    "]\n",
    "\n",
    "# create system\n",
    "system: System = System(components)\n",
    "\n",
    "# run system (NOTE: this is blocking)\n",
    "system.run()"
   ]
  },
  {
   "cell_type": "code",
   "execution_count": null,
   "metadata": {},
   "outputs": [],
   "source": []
  }
 ],
 "metadata": {
  "celltoolbar": "Raw Cell Format",
  "kernelspec": {
   "display_name": "Python 3.8.10 64-bit",
   "language": "python",
   "name": "python3"
  },
  "language_info": {
   "codemirror_mode": {
    "name": "ipython",
    "version": 3
   },
   "file_extension": ".py",
   "mimetype": "text/x-python",
   "name": "python",
   "nbconvert_exporter": "python",
   "pygments_lexer": "ipython3",
   "version": "3.8.10"
  },
  "vscode": {
   "interpreter": {
    "hash": "916dbcbb3f70747c44a77c7bcd40155683ae19c65e1c03b4aa3499c5328201f1"
   }
  }
 },
 "nbformat": 4,
 "nbformat_minor": 4
}
