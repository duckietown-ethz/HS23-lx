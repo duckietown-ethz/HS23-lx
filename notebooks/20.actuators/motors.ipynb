{
 "cells": [
  {
   "cell_type": "markdown",
   "metadata": {},
   "source": [
    "# Actuator - Motors"
   ]
  },
  {
   "cell_type": "markdown",
   "metadata": {},
   "source": [
    "In this notebook we will learn how to use the Motor component to drive a Duckiebot."
   ]
  },
  {
   "cell_type": "code",
   "execution_count": null,
   "metadata": {
    "pycharm": {
     "name": "#%%\n"
    }
   },
   "outputs": [],
   "source": [
    "%load_ext autoreload\n",
    "%autoreload 2\n",
    "\n",
    "import os\n",
    "\n",
    "# TODO: change this to the name of your Duckiebot\n",
    "VEHICLE_NAME: str = \"db21j3\""
   ]
  },
  {
   "cell_type": "code",
   "execution_count": null,
   "metadata": {},
   "outputs": [],
   "source": [
    "# Actuator - Motors - Set PWM signals for left and right wheel\n",
    "\n",
    "import time\n",
    "from duckietown.components.duckiebot import MotorsDriverComponent\n",
    "\n",
    "# define component\n",
    "motors: MotorsDriverComponent = MotorsDriverComponent(vehicle_name=VEHICLE_NAME)\n",
    "motors.start()\n",
    "\n",
    "# define new speed/direction (negative = backward, positive = forward, range is [-1, 1])\n",
    "left_pwm: float = -0.1\n",
    "right_pwm: float = 0.1\n",
    "\n",
    "# set new control signals\n",
    "motors.in_pwml_pwmr.put((left_pwm, right_pwm))\n",
    "\n",
    "# let it drive for 5 seconds\n",
    "try:\n",
    "    time.sleep(5)\n",
    "except KeyboardInterrupt:\n",
    "    pass\n",
    "\n",
    "# stop component\n",
    "motors.stop()"
   ]
  },
  {
   "cell_type": "code",
   "execution_count": null,
   "metadata": {},
   "outputs": [],
   "source": []
  }
 ],
 "metadata": {
  "celltoolbar": "Raw Cell Format",
  "kernelspec": {
   "display_name": "Python 3.8.10 64-bit",
   "language": "python",
   "name": "python3"
  },
  "language_info": {
   "codemirror_mode": {
    "name": "ipython",
    "version": 3
   },
   "file_extension": ".py",
   "mimetype": "text/x-python",
   "name": "python",
   "nbconvert_exporter": "python",
   "pygments_lexer": "ipython3",
   "version": "3.8.10"
  },
  "vscode": {
   "interpreter": {
    "hash": "916dbcbb3f70747c44a77c7bcd40155683ae19c65e1c03b4aa3499c5328201f1"
   }
  }
 },
 "nbformat": 4,
 "nbformat_minor": 4
}
